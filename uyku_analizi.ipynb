{
 "cells": [
  {
   "cell_type": "code",
   "execution_count": 62,
   "metadata": {},
   "outputs": [],
   "source": [
    "#Reading data\n",
    "import pandas as pd\n",
    "\n",
    "\n",
    "#Fixings warnings\n",
    "import warnings \n",
    "warnings.filterwarnings('ignore')\n",
    "\n",
    "\n",
    "#For mathematical operations\n",
    "import numpy as np\n",
    "\n",
    "\n",
    "#Visualisation\n",
    "import seaborn as sns \n",
    "import plotly.express as px\n",
    "from termcolor import colored\n",
    "import matplotlib.pyplot as plt \n",
    "import plotly.graph_objects as go\n",
    "import plotly.figure_factory as ff\n",
    "\n",
    "\n",
    "#Data spliting\n",
    "from sklearn.model_selection import train_test_split"
   ]
  },
  {
   "cell_type": "code",
   "execution_count": 63,
   "metadata": {},
   "outputs": [
    {
     "data": {
      "text/html": [
       "<style type=\"text/css\">\n",
       "#T_b26cc_row0_col0, #T_b26cc_row0_col1, #T_b26cc_row0_col2, #T_b26cc_row0_col3, #T_b26cc_row0_col4, #T_b26cc_row0_col5, #T_b26cc_row0_col6, #T_b26cc_row0_col7, #T_b26cc_row0_col8, #T_b26cc_row0_col9, #T_b26cc_row0_col10, #T_b26cc_row0_col11, #T_b26cc_row0_col12, #T_b26cc_row1_col0, #T_b26cc_row1_col1, #T_b26cc_row1_col2, #T_b26cc_row1_col3, #T_b26cc_row1_col4, #T_b26cc_row1_col5, #T_b26cc_row1_col6, #T_b26cc_row1_col7, #T_b26cc_row1_col8, #T_b26cc_row1_col9, #T_b26cc_row1_col10, #T_b26cc_row1_col11, #T_b26cc_row1_col12, #T_b26cc_row2_col0, #T_b26cc_row2_col1, #T_b26cc_row2_col2, #T_b26cc_row2_col3, #T_b26cc_row2_col4, #T_b26cc_row2_col5, #T_b26cc_row2_col6, #T_b26cc_row2_col7, #T_b26cc_row2_col8, #T_b26cc_row2_col9, #T_b26cc_row2_col10, #T_b26cc_row2_col11, #T_b26cc_row2_col12, #T_b26cc_row3_col0, #T_b26cc_row3_col1, #T_b26cc_row3_col2, #T_b26cc_row3_col3, #T_b26cc_row3_col4, #T_b26cc_row3_col5, #T_b26cc_row3_col6, #T_b26cc_row3_col7, #T_b26cc_row3_col8, #T_b26cc_row3_col9, #T_b26cc_row3_col10, #T_b26cc_row3_col11, #T_b26cc_row3_col12, #T_b26cc_row4_col0, #T_b26cc_row4_col1, #T_b26cc_row4_col2, #T_b26cc_row4_col3, #T_b26cc_row4_col4, #T_b26cc_row4_col5, #T_b26cc_row4_col6, #T_b26cc_row4_col7, #T_b26cc_row4_col8, #T_b26cc_row4_col9, #T_b26cc_row4_col10, #T_b26cc_row4_col11, #T_b26cc_row4_col12 {\n",
       "  background-color: #4A235A;\n",
       "  color: #E2EEF3;\n",
       "}\n",
       "</style>\n",
       "<table id=\"T_b26cc\">\n",
       "  <thead>\n",
       "    <tr>\n",
       "      <th class=\"blank level0\" >&nbsp;</th>\n",
       "      <th id=\"T_b26cc_level0_col0\" class=\"col_heading level0 col0\" >Person ID</th>\n",
       "      <th id=\"T_b26cc_level0_col1\" class=\"col_heading level0 col1\" >Gender</th>\n",
       "      <th id=\"T_b26cc_level0_col2\" class=\"col_heading level0 col2\" >Age</th>\n",
       "      <th id=\"T_b26cc_level0_col3\" class=\"col_heading level0 col3\" >Occupation</th>\n",
       "      <th id=\"T_b26cc_level0_col4\" class=\"col_heading level0 col4\" >Sleep Duration</th>\n",
       "      <th id=\"T_b26cc_level0_col5\" class=\"col_heading level0 col5\" >Quality of Sleep</th>\n",
       "      <th id=\"T_b26cc_level0_col6\" class=\"col_heading level0 col6\" >Physical Activity Level</th>\n",
       "      <th id=\"T_b26cc_level0_col7\" class=\"col_heading level0 col7\" >Stress Level</th>\n",
       "      <th id=\"T_b26cc_level0_col8\" class=\"col_heading level0 col8\" >BMI Category</th>\n",
       "      <th id=\"T_b26cc_level0_col9\" class=\"col_heading level0 col9\" >Blood Pressure</th>\n",
       "      <th id=\"T_b26cc_level0_col10\" class=\"col_heading level0 col10\" >Heart Rate</th>\n",
       "      <th id=\"T_b26cc_level0_col11\" class=\"col_heading level0 col11\" >Daily Steps</th>\n",
       "      <th id=\"T_b26cc_level0_col12\" class=\"col_heading level0 col12\" >Sleep Disorder</th>\n",
       "    </tr>\n",
       "  </thead>\n",
       "  <tbody>\n",
       "    <tr>\n",
       "      <th id=\"T_b26cc_level0_row0\" class=\"row_heading level0 row0\" >0</th>\n",
       "      <td id=\"T_b26cc_row0_col0\" class=\"data row0 col0\" >1</td>\n",
       "      <td id=\"T_b26cc_row0_col1\" class=\"data row0 col1\" >Male</td>\n",
       "      <td id=\"T_b26cc_row0_col2\" class=\"data row0 col2\" >27</td>\n",
       "      <td id=\"T_b26cc_row0_col3\" class=\"data row0 col3\" >Software Engineer</td>\n",
       "      <td id=\"T_b26cc_row0_col4\" class=\"data row0 col4\" >6.100000</td>\n",
       "      <td id=\"T_b26cc_row0_col5\" class=\"data row0 col5\" >6</td>\n",
       "      <td id=\"T_b26cc_row0_col6\" class=\"data row0 col6\" >42</td>\n",
       "      <td id=\"T_b26cc_row0_col7\" class=\"data row0 col7\" >6</td>\n",
       "      <td id=\"T_b26cc_row0_col8\" class=\"data row0 col8\" >Overweight</td>\n",
       "      <td id=\"T_b26cc_row0_col9\" class=\"data row0 col9\" >126/83</td>\n",
       "      <td id=\"T_b26cc_row0_col10\" class=\"data row0 col10\" >77</td>\n",
       "      <td id=\"T_b26cc_row0_col11\" class=\"data row0 col11\" >4200</td>\n",
       "      <td id=\"T_b26cc_row0_col12\" class=\"data row0 col12\" >nan</td>\n",
       "    </tr>\n",
       "    <tr>\n",
       "      <th id=\"T_b26cc_level0_row1\" class=\"row_heading level0 row1\" >1</th>\n",
       "      <td id=\"T_b26cc_row1_col0\" class=\"data row1 col0\" >2</td>\n",
       "      <td id=\"T_b26cc_row1_col1\" class=\"data row1 col1\" >Male</td>\n",
       "      <td id=\"T_b26cc_row1_col2\" class=\"data row1 col2\" >28</td>\n",
       "      <td id=\"T_b26cc_row1_col3\" class=\"data row1 col3\" >Doctor</td>\n",
       "      <td id=\"T_b26cc_row1_col4\" class=\"data row1 col4\" >6.200000</td>\n",
       "      <td id=\"T_b26cc_row1_col5\" class=\"data row1 col5\" >6</td>\n",
       "      <td id=\"T_b26cc_row1_col6\" class=\"data row1 col6\" >60</td>\n",
       "      <td id=\"T_b26cc_row1_col7\" class=\"data row1 col7\" >8</td>\n",
       "      <td id=\"T_b26cc_row1_col8\" class=\"data row1 col8\" >Normal</td>\n",
       "      <td id=\"T_b26cc_row1_col9\" class=\"data row1 col9\" >125/80</td>\n",
       "      <td id=\"T_b26cc_row1_col10\" class=\"data row1 col10\" >75</td>\n",
       "      <td id=\"T_b26cc_row1_col11\" class=\"data row1 col11\" >10000</td>\n",
       "      <td id=\"T_b26cc_row1_col12\" class=\"data row1 col12\" >nan</td>\n",
       "    </tr>\n",
       "    <tr>\n",
       "      <th id=\"T_b26cc_level0_row2\" class=\"row_heading level0 row2\" >2</th>\n",
       "      <td id=\"T_b26cc_row2_col0\" class=\"data row2 col0\" >3</td>\n",
       "      <td id=\"T_b26cc_row2_col1\" class=\"data row2 col1\" >Male</td>\n",
       "      <td id=\"T_b26cc_row2_col2\" class=\"data row2 col2\" >28</td>\n",
       "      <td id=\"T_b26cc_row2_col3\" class=\"data row2 col3\" >Doctor</td>\n",
       "      <td id=\"T_b26cc_row2_col4\" class=\"data row2 col4\" >6.200000</td>\n",
       "      <td id=\"T_b26cc_row2_col5\" class=\"data row2 col5\" >6</td>\n",
       "      <td id=\"T_b26cc_row2_col6\" class=\"data row2 col6\" >60</td>\n",
       "      <td id=\"T_b26cc_row2_col7\" class=\"data row2 col7\" >8</td>\n",
       "      <td id=\"T_b26cc_row2_col8\" class=\"data row2 col8\" >Normal</td>\n",
       "      <td id=\"T_b26cc_row2_col9\" class=\"data row2 col9\" >125/80</td>\n",
       "      <td id=\"T_b26cc_row2_col10\" class=\"data row2 col10\" >75</td>\n",
       "      <td id=\"T_b26cc_row2_col11\" class=\"data row2 col11\" >10000</td>\n",
       "      <td id=\"T_b26cc_row2_col12\" class=\"data row2 col12\" >nan</td>\n",
       "    </tr>\n",
       "    <tr>\n",
       "      <th id=\"T_b26cc_level0_row3\" class=\"row_heading level0 row3\" >3</th>\n",
       "      <td id=\"T_b26cc_row3_col0\" class=\"data row3 col0\" >4</td>\n",
       "      <td id=\"T_b26cc_row3_col1\" class=\"data row3 col1\" >Male</td>\n",
       "      <td id=\"T_b26cc_row3_col2\" class=\"data row3 col2\" >28</td>\n",
       "      <td id=\"T_b26cc_row3_col3\" class=\"data row3 col3\" >Sales Representative</td>\n",
       "      <td id=\"T_b26cc_row3_col4\" class=\"data row3 col4\" >5.900000</td>\n",
       "      <td id=\"T_b26cc_row3_col5\" class=\"data row3 col5\" >4</td>\n",
       "      <td id=\"T_b26cc_row3_col6\" class=\"data row3 col6\" >30</td>\n",
       "      <td id=\"T_b26cc_row3_col7\" class=\"data row3 col7\" >8</td>\n",
       "      <td id=\"T_b26cc_row3_col8\" class=\"data row3 col8\" >Obese</td>\n",
       "      <td id=\"T_b26cc_row3_col9\" class=\"data row3 col9\" >140/90</td>\n",
       "      <td id=\"T_b26cc_row3_col10\" class=\"data row3 col10\" >85</td>\n",
       "      <td id=\"T_b26cc_row3_col11\" class=\"data row3 col11\" >3000</td>\n",
       "      <td id=\"T_b26cc_row3_col12\" class=\"data row3 col12\" >Sleep Apnea</td>\n",
       "    </tr>\n",
       "    <tr>\n",
       "      <th id=\"T_b26cc_level0_row4\" class=\"row_heading level0 row4\" >4</th>\n",
       "      <td id=\"T_b26cc_row4_col0\" class=\"data row4 col0\" >5</td>\n",
       "      <td id=\"T_b26cc_row4_col1\" class=\"data row4 col1\" >Male</td>\n",
       "      <td id=\"T_b26cc_row4_col2\" class=\"data row4 col2\" >28</td>\n",
       "      <td id=\"T_b26cc_row4_col3\" class=\"data row4 col3\" >Sales Representative</td>\n",
       "      <td id=\"T_b26cc_row4_col4\" class=\"data row4 col4\" >5.900000</td>\n",
       "      <td id=\"T_b26cc_row4_col5\" class=\"data row4 col5\" >4</td>\n",
       "      <td id=\"T_b26cc_row4_col6\" class=\"data row4 col6\" >30</td>\n",
       "      <td id=\"T_b26cc_row4_col7\" class=\"data row4 col7\" >8</td>\n",
       "      <td id=\"T_b26cc_row4_col8\" class=\"data row4 col8\" >Obese</td>\n",
       "      <td id=\"T_b26cc_row4_col9\" class=\"data row4 col9\" >140/90</td>\n",
       "      <td id=\"T_b26cc_row4_col10\" class=\"data row4 col10\" >85</td>\n",
       "      <td id=\"T_b26cc_row4_col11\" class=\"data row4 col11\" >3000</td>\n",
       "      <td id=\"T_b26cc_row4_col12\" class=\"data row4 col12\" >Sleep Apnea</td>\n",
       "    </tr>\n",
       "  </tbody>\n",
       "</table>\n"
      ],
      "text/plain": [
       "<pandas.io.formats.style.Styler at 0x23de23ec0e0>"
      ]
     },
     "execution_count": 63,
     "metadata": {},
     "output_type": "execute_result"
    }
   ],
   "source": [
    "sleep_data=pd.read_csv('Sleep_health_and_lifestyle_dataset.csv')\n",
    "\n",
    "#head() for display the first 5 rows  \n",
    "sleep_data.head().style.set_properties(**{'background-color': '#4A235A',\n",
    "                                          'color': '#E2EEF3'}) #for colored output"
   ]
  },
  {
   "cell_type": "code",
   "execution_count": 64,
   "metadata": {},
   "outputs": [
    {
     "name": "stdout",
     "output_type": "stream",
     "text": [
      "The dimention of data is : \u001b[5m\u001b[35m(374, 13)\u001b[0m\n"
     ]
    }
   ],
   "source": [
    "shape = colored(sleep_data.shape, \"magenta\",None, attrs=[\"blink\"])\n",
    "print('The dimention of data is :',shape)"
   ]
  },
  {
   "cell_type": "code",
   "execution_count": 65,
   "metadata": {},
   "outputs": [
    {
     "name": "stdout",
     "output_type": "stream",
     "text": [
      "<class 'pandas.core.frame.DataFrame'>\n",
      "RangeIndex: 374 entries, 0 to 373\n",
      "Data columns (total 13 columns):\n",
      " #   Column                   Non-Null Count  Dtype  \n",
      "---  ------                   --------------  -----  \n",
      " 0   Person ID                374 non-null    int64  \n",
      " 1   Gender                   374 non-null    object \n",
      " 2   Age                      374 non-null    int64  \n",
      " 3   Occupation               374 non-null    object \n",
      " 4   Sleep Duration           374 non-null    float64\n",
      " 5   Quality of Sleep         374 non-null    int64  \n",
      " 6   Physical Activity Level  374 non-null    int64  \n",
      " 7   Stress Level             374 non-null    int64  \n",
      " 8   BMI Category             374 non-null    object \n",
      " 9   Blood Pressure           374 non-null    object \n",
      " 10  Heart Rate               374 non-null    int64  \n",
      " 11  Daily Steps              374 non-null    int64  \n",
      " 12  Sleep Disorder           155 non-null    object \n",
      "dtypes: float64(1), int64(7), object(5)\n",
      "memory usage: 38.1+ KB\n"
     ]
    }
   ],
   "source": [
    "sleep_data.info() # for empty and type of values"
   ]
  },
  {
   "cell_type": "code",
   "execution_count": 66,
   "metadata": {},
   "outputs": [
    {
     "data": {
      "text/html": [
       "<style type=\"text/css\">\n",
       "#T_44340_row0_col0, #T_44340_row0_col1, #T_44340_row0_col2, #T_44340_row0_col3, #T_44340_row0_col4, #T_44340_row0_col5, #T_44340_row0_col6, #T_44340_row7_col0, #T_44340_row7_col7 {\n",
       "  background-color: #4d004b;\n",
       "  color: #f1f1f1;\n",
       "}\n",
       "#T_44340_row0_col7, #T_44340_row2_col1, #T_44340_row2_col2, #T_44340_row2_col3, #T_44340_row2_col4, #T_44340_row2_col5, #T_44340_row2_col6, #T_44340_row3_col0, #T_44340_row3_col5 {\n",
       "  background-color: #f7fcfd;\n",
       "  color: #000000;\n",
       "}\n",
       "#T_44340_row1_col0, #T_44340_row5_col0 {\n",
       "  background-color: #8c95c6;\n",
       "  color: #f1f1f1;\n",
       "}\n",
       "#T_44340_row1_col1 {\n",
       "  background-color: #e6f0f7;\n",
       "  color: #000000;\n",
       "}\n",
       "#T_44340_row1_col2, #T_44340_row1_col3, #T_44340_row5_col2, #T_44340_row6_col2, #T_44340_row6_col3, #T_44340_row7_col5 {\n",
       "  background-color: #f4fafc;\n",
       "  color: #000000;\n",
       "}\n",
       "#T_44340_row1_col4 {\n",
       "  background-color: #e4eef5;\n",
       "  color: #000000;\n",
       "}\n",
       "#T_44340_row1_col5, #T_44340_row5_col5 {\n",
       "  background-color: #f6fbfc;\n",
       "  color: #000000;\n",
       "}\n",
       "#T_44340_row1_col6, #T_44340_row5_col6 {\n",
       "  background-color: #d2e2ee;\n",
       "  color: #000000;\n",
       "}\n",
       "#T_44340_row1_col7 {\n",
       "  background-color: #8b5caa;\n",
       "  color: #f1f1f1;\n",
       "}\n",
       "#T_44340_row2_col0 {\n",
       "  background-color: #b5cce3;\n",
       "  color: #000000;\n",
       "}\n",
       "#T_44340_row2_col7 {\n",
       "  background-color: #dfebf4;\n",
       "  color: #000000;\n",
       "}\n",
       "#T_44340_row3_col1 {\n",
       "  background-color: #eef6fa;\n",
       "  color: #000000;\n",
       "}\n",
       "#T_44340_row3_col2, #T_44340_row4_col2, #T_44340_row4_col3, #T_44340_row5_col3, #T_44340_row6_col5 {\n",
       "  background-color: #f5fafc;\n",
       "  color: #000000;\n",
       "}\n",
       "#T_44340_row3_col3, #T_44340_row4_col5 {\n",
       "  background-color: #f6fbfd;\n",
       "  color: #000000;\n",
       "}\n",
       "#T_44340_row3_col4 {\n",
       "  background-color: #f3f9fb;\n",
       "  color: #000000;\n",
       "}\n",
       "#T_44340_row3_col6 {\n",
       "  background-color: #d6e4f0;\n",
       "  color: #000000;\n",
       "}\n",
       "#T_44340_row3_col7 {\n",
       "  background-color: #bacfe4;\n",
       "  color: #000000;\n",
       "}\n",
       "#T_44340_row4_col0 {\n",
       "  background-color: #bfd3e6;\n",
       "  color: #000000;\n",
       "}\n",
       "#T_44340_row4_col1 {\n",
       "  background-color: #eaf3f8;\n",
       "  color: #000000;\n",
       "}\n",
       "#T_44340_row4_col4 {\n",
       "  background-color: #ebf3f8;\n",
       "  color: #000000;\n",
       "}\n",
       "#T_44340_row4_col6 {\n",
       "  background-color: #d3e2ef;\n",
       "  color: #000000;\n",
       "}\n",
       "#T_44340_row4_col7 {\n",
       "  background-color: #8c88bf;\n",
       "  color: #f1f1f1;\n",
       "}\n",
       "#T_44340_row5_col1 {\n",
       "  background-color: #e6f0f6;\n",
       "  color: #000000;\n",
       "}\n",
       "#T_44340_row5_col4, #T_44340_row6_col1 {\n",
       "  background-color: #e3eef5;\n",
       "  color: #000000;\n",
       "}\n",
       "#T_44340_row5_col7 {\n",
       "  background-color: #8a55a7;\n",
       "  color: #f1f1f1;\n",
       "}\n",
       "#T_44340_row6_col0 {\n",
       "  background-color: #88409c;\n",
       "  color: #f1f1f1;\n",
       "}\n",
       "#T_44340_row6_col4 {\n",
       "  background-color: #d9e6f1;\n",
       "  color: #000000;\n",
       "}\n",
       "#T_44340_row6_col6 {\n",
       "  background-color: #d1e1ee;\n",
       "  color: #000000;\n",
       "}\n",
       "#T_44340_row6_col7 {\n",
       "  background-color: #863092;\n",
       "  color: #f1f1f1;\n",
       "}\n",
       "#T_44340_row7_col1 {\n",
       "  background-color: #ddeaf3;\n",
       "  color: #000000;\n",
       "}\n",
       "#T_44340_row7_col2, #T_44340_row7_col3 {\n",
       "  background-color: #f3f9fc;\n",
       "  color: #000000;\n",
       "}\n",
       "#T_44340_row7_col4 {\n",
       "  background-color: #cddeec;\n",
       "  color: #000000;\n",
       "}\n",
       "#T_44340_row7_col6 {\n",
       "  background-color: #c7d9e9;\n",
       "  color: #000000;\n",
       "}\n",
       "</style>\n",
       "<table id=\"T_44340\">\n",
       "  <thead>\n",
       "    <tr>\n",
       "      <th class=\"blank level0\" >&nbsp;</th>\n",
       "      <th id=\"T_44340_level0_col0\" class=\"col_heading level0 col0\" >Person ID</th>\n",
       "      <th id=\"T_44340_level0_col1\" class=\"col_heading level0 col1\" >Age</th>\n",
       "      <th id=\"T_44340_level0_col2\" class=\"col_heading level0 col2\" >Sleep Duration</th>\n",
       "      <th id=\"T_44340_level0_col3\" class=\"col_heading level0 col3\" >Quality of Sleep</th>\n",
       "      <th id=\"T_44340_level0_col4\" class=\"col_heading level0 col4\" >Physical Activity Level</th>\n",
       "      <th id=\"T_44340_level0_col5\" class=\"col_heading level0 col5\" >Stress Level</th>\n",
       "      <th id=\"T_44340_level0_col6\" class=\"col_heading level0 col6\" >Heart Rate</th>\n",
       "      <th id=\"T_44340_level0_col7\" class=\"col_heading level0 col7\" >Daily Steps</th>\n",
       "    </tr>\n",
       "  </thead>\n",
       "  <tbody>\n",
       "    <tr>\n",
       "      <th id=\"T_44340_level0_row0\" class=\"row_heading level0 row0\" >count</th>\n",
       "      <td id=\"T_44340_row0_col0\" class=\"data row0 col0\" >374.000000</td>\n",
       "      <td id=\"T_44340_row0_col1\" class=\"data row0 col1\" >374.000000</td>\n",
       "      <td id=\"T_44340_row0_col2\" class=\"data row0 col2\" >374.000000</td>\n",
       "      <td id=\"T_44340_row0_col3\" class=\"data row0 col3\" >374.000000</td>\n",
       "      <td id=\"T_44340_row0_col4\" class=\"data row0 col4\" >374.000000</td>\n",
       "      <td id=\"T_44340_row0_col5\" class=\"data row0 col5\" >374.000000</td>\n",
       "      <td id=\"T_44340_row0_col6\" class=\"data row0 col6\" >374.000000</td>\n",
       "      <td id=\"T_44340_row0_col7\" class=\"data row0 col7\" >374.000000</td>\n",
       "    </tr>\n",
       "    <tr>\n",
       "      <th id=\"T_44340_level0_row1\" class=\"row_heading level0 row1\" >mean</th>\n",
       "      <td id=\"T_44340_row1_col0\" class=\"data row1 col0\" >187.500000</td>\n",
       "      <td id=\"T_44340_row1_col1\" class=\"data row1 col1\" >42.184492</td>\n",
       "      <td id=\"T_44340_row1_col2\" class=\"data row1 col2\" >7.132086</td>\n",
       "      <td id=\"T_44340_row1_col3\" class=\"data row1 col3\" >7.312834</td>\n",
       "      <td id=\"T_44340_row1_col4\" class=\"data row1 col4\" >59.171123</td>\n",
       "      <td id=\"T_44340_row1_col5\" class=\"data row1 col5\" >5.385027</td>\n",
       "      <td id=\"T_44340_row1_col6\" class=\"data row1 col6\" >70.165775</td>\n",
       "      <td id=\"T_44340_row1_col7\" class=\"data row1 col7\" >6816.844920</td>\n",
       "    </tr>\n",
       "    <tr>\n",
       "      <th id=\"T_44340_level0_row2\" class=\"row_heading level0 row2\" >std</th>\n",
       "      <td id=\"T_44340_row2_col0\" class=\"data row2 col0\" >108.108742</td>\n",
       "      <td id=\"T_44340_row2_col1\" class=\"data row2 col1\" >8.673133</td>\n",
       "      <td id=\"T_44340_row2_col2\" class=\"data row2 col2\" >0.795657</td>\n",
       "      <td id=\"T_44340_row2_col3\" class=\"data row2 col3\" >1.196956</td>\n",
       "      <td id=\"T_44340_row2_col4\" class=\"data row2 col4\" >20.830804</td>\n",
       "      <td id=\"T_44340_row2_col5\" class=\"data row2 col5\" >1.774526</td>\n",
       "      <td id=\"T_44340_row2_col6\" class=\"data row2 col6\" >4.135676</td>\n",
       "      <td id=\"T_44340_row2_col7\" class=\"data row2 col7\" >1617.915679</td>\n",
       "    </tr>\n",
       "    <tr>\n",
       "      <th id=\"T_44340_level0_row3\" class=\"row_heading level0 row3\" >min</th>\n",
       "      <td id=\"T_44340_row3_col0\" class=\"data row3 col0\" >1.000000</td>\n",
       "      <td id=\"T_44340_row3_col1\" class=\"data row3 col1\" >27.000000</td>\n",
       "      <td id=\"T_44340_row3_col2\" class=\"data row3 col2\" >5.800000</td>\n",
       "      <td id=\"T_44340_row3_col3\" class=\"data row3 col3\" >4.000000</td>\n",
       "      <td id=\"T_44340_row3_col4\" class=\"data row3 col4\" >30.000000</td>\n",
       "      <td id=\"T_44340_row3_col5\" class=\"data row3 col5\" >3.000000</td>\n",
       "      <td id=\"T_44340_row3_col6\" class=\"data row3 col6\" >65.000000</td>\n",
       "      <td id=\"T_44340_row3_col7\" class=\"data row3 col7\" >3000.000000</td>\n",
       "    </tr>\n",
       "    <tr>\n",
       "      <th id=\"T_44340_level0_row4\" class=\"row_heading level0 row4\" >25%</th>\n",
       "      <td id=\"T_44340_row4_col0\" class=\"data row4 col0\" >94.250000</td>\n",
       "      <td id=\"T_44340_row4_col1\" class=\"data row4 col1\" >35.250000</td>\n",
       "      <td id=\"T_44340_row4_col2\" class=\"data row4 col2\" >6.400000</td>\n",
       "      <td id=\"T_44340_row4_col3\" class=\"data row4 col3\" >6.000000</td>\n",
       "      <td id=\"T_44340_row4_col4\" class=\"data row4 col4\" >45.000000</td>\n",
       "      <td id=\"T_44340_row4_col5\" class=\"data row4 col5\" >4.000000</td>\n",
       "      <td id=\"T_44340_row4_col6\" class=\"data row4 col6\" >68.000000</td>\n",
       "      <td id=\"T_44340_row4_col7\" class=\"data row4 col7\" >5600.000000</td>\n",
       "    </tr>\n",
       "    <tr>\n",
       "      <th id=\"T_44340_level0_row5\" class=\"row_heading level0 row5\" >50%</th>\n",
       "      <td id=\"T_44340_row5_col0\" class=\"data row5 col0\" >187.500000</td>\n",
       "      <td id=\"T_44340_row5_col1\" class=\"data row5 col1\" >43.000000</td>\n",
       "      <td id=\"T_44340_row5_col2\" class=\"data row5 col2\" >7.200000</td>\n",
       "      <td id=\"T_44340_row5_col3\" class=\"data row5 col3\" >7.000000</td>\n",
       "      <td id=\"T_44340_row5_col4\" class=\"data row5 col4\" >60.000000</td>\n",
       "      <td id=\"T_44340_row5_col5\" class=\"data row5 col5\" >5.000000</td>\n",
       "      <td id=\"T_44340_row5_col6\" class=\"data row5 col6\" >70.000000</td>\n",
       "      <td id=\"T_44340_row5_col7\" class=\"data row5 col7\" >7000.000000</td>\n",
       "    </tr>\n",
       "    <tr>\n",
       "      <th id=\"T_44340_level0_row6\" class=\"row_heading level0 row6\" >75%</th>\n",
       "      <td id=\"T_44340_row6_col0\" class=\"data row6 col0\" >280.750000</td>\n",
       "      <td id=\"T_44340_row6_col1\" class=\"data row6 col1\" >50.000000</td>\n",
       "      <td id=\"T_44340_row6_col2\" class=\"data row6 col2\" >7.800000</td>\n",
       "      <td id=\"T_44340_row6_col3\" class=\"data row6 col3\" >8.000000</td>\n",
       "      <td id=\"T_44340_row6_col4\" class=\"data row6 col4\" >75.000000</td>\n",
       "      <td id=\"T_44340_row6_col5\" class=\"data row6 col5\" >7.000000</td>\n",
       "      <td id=\"T_44340_row6_col6\" class=\"data row6 col6\" >72.000000</td>\n",
       "      <td id=\"T_44340_row6_col7\" class=\"data row6 col7\" >8000.000000</td>\n",
       "    </tr>\n",
       "    <tr>\n",
       "      <th id=\"T_44340_level0_row7\" class=\"row_heading level0 row7\" >max</th>\n",
       "      <td id=\"T_44340_row7_col0\" class=\"data row7 col0\" >374.000000</td>\n",
       "      <td id=\"T_44340_row7_col1\" class=\"data row7 col1\" >59.000000</td>\n",
       "      <td id=\"T_44340_row7_col2\" class=\"data row7 col2\" >8.500000</td>\n",
       "      <td id=\"T_44340_row7_col3\" class=\"data row7 col3\" >9.000000</td>\n",
       "      <td id=\"T_44340_row7_col4\" class=\"data row7 col4\" >90.000000</td>\n",
       "      <td id=\"T_44340_row7_col5\" class=\"data row7 col5\" >8.000000</td>\n",
       "      <td id=\"T_44340_row7_col6\" class=\"data row7 col6\" >86.000000</td>\n",
       "      <td id=\"T_44340_row7_col7\" class=\"data row7 col7\" >10000.000000</td>\n",
       "    </tr>\n",
       "  </tbody>\n",
       "</table>\n"
      ],
      "text/plain": [
       "<pandas.io.formats.style.Styler at 0x23de6a848f0>"
      ]
     },
     "execution_count": 66,
     "metadata": {},
     "output_type": "execute_result"
    }
   ],
   "source": [
    "#for statistical info\n",
    "sleep_data.describe().style.background_gradient(cmap='BuPu') #for colored output"
   ]
  },
  {
   "cell_type": "code",
   "execution_count": 67,
   "metadata": {},
   "outputs": [
    {
     "data": {
      "text/html": [
       "<style type=\"text/css\">\n",
       "#T_15a80_row0_col0, #T_15a80_row0_col1, #T_15a80_row0_col2, #T_15a80_row0_col3, #T_15a80_row0_col4, #T_15a80_row1_col0, #T_15a80_row1_col1, #T_15a80_row1_col2, #T_15a80_row1_col3, #T_15a80_row1_col4, #T_15a80_row2_col0, #T_15a80_row2_col1, #T_15a80_row2_col2, #T_15a80_row2_col3, #T_15a80_row2_col4, #T_15a80_row3_col0, #T_15a80_row3_col1, #T_15a80_row3_col2, #T_15a80_row3_col3, #T_15a80_row3_col4 {\n",
       "  background-color: #4A235A;\n",
       "  color: #E2EEF3;\n",
       "}\n",
       "</style>\n",
       "<table id=\"T_15a80\">\n",
       "  <thead>\n",
       "    <tr>\n",
       "      <th class=\"blank level0\" >&nbsp;</th>\n",
       "      <th id=\"T_15a80_level0_col0\" class=\"col_heading level0 col0\" >Gender</th>\n",
       "      <th id=\"T_15a80_level0_col1\" class=\"col_heading level0 col1\" >Occupation</th>\n",
       "      <th id=\"T_15a80_level0_col2\" class=\"col_heading level0 col2\" >BMI Category</th>\n",
       "      <th id=\"T_15a80_level0_col3\" class=\"col_heading level0 col3\" >Blood Pressure</th>\n",
       "      <th id=\"T_15a80_level0_col4\" class=\"col_heading level0 col4\" >Sleep Disorder</th>\n",
       "    </tr>\n",
       "  </thead>\n",
       "  <tbody>\n",
       "    <tr>\n",
       "      <th id=\"T_15a80_level0_row0\" class=\"row_heading level0 row0\" >count</th>\n",
       "      <td id=\"T_15a80_row0_col0\" class=\"data row0 col0\" >374</td>\n",
       "      <td id=\"T_15a80_row0_col1\" class=\"data row0 col1\" >374</td>\n",
       "      <td id=\"T_15a80_row0_col2\" class=\"data row0 col2\" >374</td>\n",
       "      <td id=\"T_15a80_row0_col3\" class=\"data row0 col3\" >374</td>\n",
       "      <td id=\"T_15a80_row0_col4\" class=\"data row0 col4\" >155</td>\n",
       "    </tr>\n",
       "    <tr>\n",
       "      <th id=\"T_15a80_level0_row1\" class=\"row_heading level0 row1\" >unique</th>\n",
       "      <td id=\"T_15a80_row1_col0\" class=\"data row1 col0\" >2</td>\n",
       "      <td id=\"T_15a80_row1_col1\" class=\"data row1 col1\" >11</td>\n",
       "      <td id=\"T_15a80_row1_col2\" class=\"data row1 col2\" >4</td>\n",
       "      <td id=\"T_15a80_row1_col3\" class=\"data row1 col3\" >25</td>\n",
       "      <td id=\"T_15a80_row1_col4\" class=\"data row1 col4\" >2</td>\n",
       "    </tr>\n",
       "    <tr>\n",
       "      <th id=\"T_15a80_level0_row2\" class=\"row_heading level0 row2\" >top</th>\n",
       "      <td id=\"T_15a80_row2_col0\" class=\"data row2 col0\" >Male</td>\n",
       "      <td id=\"T_15a80_row2_col1\" class=\"data row2 col1\" >Nurse</td>\n",
       "      <td id=\"T_15a80_row2_col2\" class=\"data row2 col2\" >Normal</td>\n",
       "      <td id=\"T_15a80_row2_col3\" class=\"data row2 col3\" >130/85</td>\n",
       "      <td id=\"T_15a80_row2_col4\" class=\"data row2 col4\" >Sleep Apnea</td>\n",
       "    </tr>\n",
       "    <tr>\n",
       "      <th id=\"T_15a80_level0_row3\" class=\"row_heading level0 row3\" >freq</th>\n",
       "      <td id=\"T_15a80_row3_col0\" class=\"data row3 col0\" >189</td>\n",
       "      <td id=\"T_15a80_row3_col1\" class=\"data row3 col1\" >73</td>\n",
       "      <td id=\"T_15a80_row3_col2\" class=\"data row3 col2\" >195</td>\n",
       "      <td id=\"T_15a80_row3_col3\" class=\"data row3 col3\" >99</td>\n",
       "      <td id=\"T_15a80_row3_col4\" class=\"data row3 col4\" >78</td>\n",
       "    </tr>\n",
       "  </tbody>\n",
       "</table>\n"
      ],
      "text/plain": [
       "<pandas.io.formats.style.Styler at 0x23de43d1610>"
      ]
     },
     "execution_count": 67,
     "metadata": {},
     "output_type": "execute_result"
    }
   ],
   "source": [
    "#for statistical info including string values\n",
    "sleep_data.describe(include='O').style.set_properties(**{'background-color': '#4A235A',\n",
    "                                                      'color': '#E2EEF3'})  "
   ]
  },
  {
   "cell_type": "code",
   "execution_count": 68,
   "metadata": {},
   "outputs": [
    {
     "name": "stdout",
     "output_type": "stream",
     "text": [
      "\u001b[5m\u001b[35mIndex(['Person ID', 'Gender', 'Age', 'Occupation', 'Sleep Duration',\n",
      "       'Quality of Sleep', 'Physical Activity Level', 'Stress Level',\n",
      "       'BMI Category', 'Blood Pressure', 'Heart Rate', 'Daily Steps',\n",
      "       'Sleep Disorder'],\n",
      "      dtype='object')\u001b[0m\n"
     ]
    }
   ],
   "source": [
    "columns_name=colored(sleep_data.columns, 'magenta',None, attrs=[\"blink\"]) #for show names of columns\n",
    "print(columns_name)"
   ]
  },
  {
   "cell_type": "code",
   "execution_count": 69,
   "metadata": {},
   "outputs": [
    {
     "name": "stdout",
     "output_type": "stream",
     "text": [
      "\u001b[5m\u001b[35mPerson ID                  374\n",
      "Gender                       2\n",
      "Age                         31\n",
      "Occupation                  11\n",
      "Sleep Duration              27\n",
      "Quality of Sleep             6\n",
      "Physical Activity Level     16\n",
      "Stress Level                 6\n",
      "BMI Category                 4\n",
      "Blood Pressure              25\n",
      "Heart Rate                  19\n",
      "Daily Steps                 20\n",
      "Sleep Disorder               2\n",
      "dtype: int64\u001b[0m\n"
     ]
    }
   ],
   "source": [
    "#for colored text output ( Text ,Text colors ,Text highlights , Attributes)\n",
    "number_of_values=colored(sleep_data.nunique(), \"magenta\",None, attrs=[\"blink\"])\n",
    "                        \n",
    "print(number_of_values) #for number of values of columns"
   ]
  },
  {
   "cell_type": "code",
   "execution_count": 70,
   "metadata": {},
   "outputs": [
    {
     "name": "stderr",
     "output_type": "stream",
     "text": [
      "No artists with labels found to put in legend.  Note that artists whose label start with an underscore are ignored when legend() is called with no argument.\n"
     ]
    },
    {
     "data": {
      "image/png": "[encoded data removed]",
      "text/plain": [
       "<Figure size 1878.75x1750 with 56 Axes>"
      ]
     },
     "metadata": {},
     "output_type": "display_data"
    }
   ],
   "source": [
    "plt.style.use('seaborn-v0_8-white')\n",
    "sns.pairplot(data=sleep_data.drop('Person ID',axis=1),hue='Sleep Disorder',palette='mako')\n",
    "plt.legend()\n",
    "plt.show()"
   ]
  },
  {
   "cell_type": "code",
   "execution_count": 71,
   "metadata": {},
   "outputs": [
    {
     "data": {
      "text/plain": [
       "['Solarize_Light2',\n",
       " '_classic_test_patch',\n",
       " '_mpl-gallery',\n",
       " '_mpl-gallery-nogrid',\n",
       " 'bmh',\n",
       " 'classic',\n",
       " 'dark_background',\n",
       " 'fast',\n",
       " 'fivethirtyeight',\n",
       " 'ggplot',\n",
       " 'grayscale',\n",
       " 'seaborn-v0_8',\n",
       " 'seaborn-v0_8-bright',\n",
       " 'seaborn-v0_8-colorblind',\n",
       " 'seaborn-v0_8-dark',\n",
       " 'seaborn-v0_8-dark-palette',\n",
       " 'seaborn-v0_8-darkgrid',\n",
       " 'seaborn-v0_8-deep',\n",
       " 'seaborn-v0_8-muted',\n",
       " 'seaborn-v0_8-notebook',\n",
       " 'seaborn-v0_8-paper',\n",
       " 'seaborn-v0_8-pastel',\n",
       " 'seaborn-v0_8-poster',\n",
       " 'seaborn-v0_8-talk',\n",
       " 'seaborn-v0_8-ticks',\n",
       " 'seaborn-v0_8-white',\n",
       " 'seaborn-v0_8-whitegrid',\n",
       " 'tableau-colorblind10']"
      ]
     },
     "execution_count": 71,
     "metadata": {},
     "output_type": "execute_result"
    }
   ],
   "source": [
    "plt.style.available"
   ]
  },
  {
   "cell_type": "code",
   "execution_count": 72,
   "metadata": {},
   "outputs": [
    {
     "name": "stdout",
     "output_type": "stream",
     "text": [
      "The outputs from the classification are : \u001b[5m\u001b[35m[nan 'Sleep Apnea' 'Insomnia']\u001b[0m\n"
     ]
    }
   ],
   "source": [
    "classes=colored(sleep_data['Sleep Disorder'].unique(), \"magenta\",None, attrs=[\"blink\"])\n",
    "print('The outputs from the classification are :',classes)"
   ]
  },
  {
   "cell_type": "code",
   "execution_count": 73,
   "metadata": {},
   "outputs": [
    {
     "data": {
      "text/plain": [
       "Sleep Disorder\n",
       "Sleep Apnea    78\n",
       "Insomnia       77\n",
       "Name: count, dtype: int64"
      ]
     },
     "execution_count": 73,
     "metadata": {},
     "output_type": "execute_result"
    }
   ],
   "source": [
    "sleep_data['Sleep Disorder'].value_counts()"
   ]
  },
  {
   "cell_type": "code",
   "execution_count": 111,
   "metadata": {},
   "outputs": [
    {
     "data": {
      "application/vnd.plotly.v1+json": {
       "config": {
        "plotlyServerURL": "https://plot.ly"
       },
       "data": [
        {
         "alignmentgroup": "True",
         "bingroup": "x",
         "hovertemplate": "Sleep Disorder=%{x}<br>count=%{y}<extra></extra>",
         "legendgroup": "Unknown",
         "marker": {
          "color": "white",
          "pattern": {
           "shape": ""
          }
         },
         "name": "Unknown",
         "offsetgroup": "Unknown",
         "orientation": "v",
         "showlegend": true,
         "texttemplate": "%{value}",
         "type": "histogram",
         "x": [
          "Unknown",
          "Unknown",
          "Unknown",
          "Unknown",
          "Unknown",
          "Unknown",
          "Unknown",
          "Unknown",
          "Unknown",
          "Unknown",
          "Unknown",
          "Unknown",
          "Unknown",
          "Unknown",
          "Unknown",
          "Unknown",
          "Unknown",
          "Unknown",
          "Unknown",
          "Unknown",
          "Unknown",
          "Unknown",
          "Unknown",
          "Unknown",
          "Unknown",
          "Unknown",
          "Unknown",
          "Unknown",
          "Unknown",
          "Unknown",
          "Unknown",
          "Unknown",
          "Unknown",
          "Unknown",
          "Unknown",
          "Unknown",
          "Unknown",
          "Unknown",
          "Unknown",
          "Unknown",
          "Unknown",
          "Unknown",
          "Unknown",
          "Unknown",
          "Unknown",
          "Unknown",
          "Unknown",
          "Unknown",
          "Unknown",
          "Unknown",
          "Unknown",
          "Unknown",
          "Unknown",
          "Unknown",
          "Unknown",
          "Unknown",
          "Unknown",
          "Unknown",
          "Unknown",
          "Unknown",
          "Unknown",
          "Unknown",
          "Unknown",
          "Unknown",
          "Unknown",
          "Unknown",
          "Unknown",
          "Unknown",
          "Unknown",
          "Unknown",
          "Unknown",
          "Unknown",
          "Unknown",
          "Unknown",
          "Unknown",
          "Unknown",
          "Unknown",
          "Unknown",
          "Unknown",
          "Unknown",
          "Unknown",
          "Unknown",
          "Unknown",
          "Unknown",
          "Unknown",
          "Unknown",
          "Unknown",
          "Unknown",
          "Unknown",
          "Unknown",
          "Unknown",
          "Unknown",
          "Unknown",
          "Unknown",
          "Unknown",
          "Unknown",
          "Unknown",
          "Unknown",
          "Unknown",
          "Unknown",
          "Unknown",
          "Unknown",
          "Unknown",
          "Unknown",
          "Unknown",
          "Unknown",
          "Unknown",
          "Unknown",
          "Unknown",
          "Unknown",
          "Unknown",
          "Unknown",
          "Unknown",
          "Unknown",
          "Unknown",
          "Unknown",
          "Unknown",
          "Unknown",
          "Unknown",
          "Unknown",
          "Unknown",
          "Unknown",
          "Unknown",
          "Unknown",
          "Unknown",
          "Unknown",
          "Unknown",
          "Unknown",
          "Unknown",
          "Unknown",
          "Unknown",
          "Unknown",
          "Unknown",
          "Unknown",
          "Unknown",
          "Unknown",
          "Unknown",
          "Unknown",
          "Unknown",
          "Unknown",
          "Unknown",
          "Unknown",
          "Unknown",
          "Unknown",
          "Unknown",
          "Unknown",
          "Unknown",
          "Unknown",
          "Unknown",
          "Unknown",
          "Unknown",
          "Unknown",
          "Unknown",
          "Unknown",
          "Unknown",
          "Unknown",
          "Unknown",
          "Unknown",
          "Unknown",
          "Unknown",
          "Unknown",
          "Unknown",
          "Unknown",
          "Unknown",
          "Unknown",
          "Unknown",
          "Unknown",
          "Unknown",
          "Unknown",
          "Unknown",
          "Unknown",
          "Unknown",
          "Unknown",
          "Unknown",
          "Unknown",
          "Unknown",
          "Unknown",
          "Unknown",
          "Unknown",
          "Unknown",
          "Unknown",
          "Unknown",
          "Unknown",
          "Unknown",
          "Unknown",
          "Unknown",
          "Unknown",
          "Unknown",
          "Unknown",
          "Unknown",
          "Unknown",
          "Unknown",
          "Unknown",
          "Unknown",
          "Unknown",
          "Unknown",
          "Unknown",
          "Unknown",
          "Unknown",
          "Unknown",
          "Unknown",
          "Unknown",
          "Unknown",
          "Unknown",
          "Unknown",
          "Unknown",
          "Unknown",
          "Unknown",
          "Unknown",
          "Unknown",
          "Unknown",
          "Unknown",
          "Unknown",
          "Unknown",
          "Unknown",
          "Unknown",
          "Unknown",
          "Unknown",
          "Unknown"
         ],
         "xaxis": "x",
         "yaxis": "y"
        },
        {
         "alignmentgroup": "True",
         "bingroup": "x",
         "hovertemplate": "Sleep Disorder=%{x}<br>count=%{y}<extra></extra>",
         "legendgroup": "Sleep Apnea",
         "marker": {
          "color": "#4A235A",
          "pattern": {
           "shape": ""
          }
         },
         "name": "Sleep Apnea",
         "offsetgroup": "Sleep Apnea",
         "orientation": "v",
         "showlegend": true,
         "texttemplate": "%{value}",
         "type": "histogram",
         "x": [
          "Sleep Apnea",
          "Sleep Apnea",
          "Sleep Apnea",
          "Sleep Apnea",
          "Sleep Apnea",
          "Sleep Apnea",
          "Sleep Apnea",
          "Sleep Apnea",
          "Sleep Apnea",
          "Sleep Apnea",
          "Sleep Apnea",
          "Sleep Apnea",
          "Sleep Apnea",
          "Sleep Apnea",
          "Sleep Apnea",
          "Sleep Apnea",
          "Sleep Apnea",
          "Sleep Apnea",
          "Sleep Apnea",
          "Sleep Apnea",
          "Sleep Apnea",
          "Sleep Apnea",
          "Sleep Apnea",
          "Sleep Apnea",
          "Sleep Apnea",
          "Sleep Apnea",
          "Sleep Apnea",
          "Sleep Apnea",
          "Sleep Apnea",
          "Sleep Apnea",
          "Sleep Apnea",
          "Sleep Apnea",
          "Sleep Apnea",
          "Sleep Apnea",
          "Sleep Apnea",
          "Sleep Apnea",
          "Sleep Apnea",
          "Sleep Apnea",
          "Sleep Apnea",
          "Sleep Apnea",
          "Sleep Apnea",
          "Sleep Apnea",
          "Sleep Apnea",
          "Sleep Apnea",
          "Sleep Apnea",
          "Sleep Apnea",
          "Sleep Apnea",
          "Sleep Apnea",
          "Sleep Apnea",
          "Sleep Apnea",
          "Sleep Apnea",
          "Sleep Apnea",
          "Sleep Apnea",
          "Sleep Apnea",
          "Sleep Apnea",
          "Sleep Apnea",
          "Sleep Apnea",
          "Sleep Apnea",
          "Sleep Apnea",
          "Sleep Apnea",
          "Sleep Apnea",
          "Sleep Apnea",
          "Sleep Apnea",
          "Sleep Apnea",
          "Sleep Apnea",
          "Sleep Apnea",
          "Sleep Apnea",
          "Sleep Apnea",
          "Sleep Apnea",
          "Sleep Apnea",
          "Sleep Apnea",
          "Sleep Apnea",
          "Sleep Apnea",
          "Sleep Apnea",
          "Sleep Apnea",
          "Sleep Apnea",
          "Sleep Apnea",
          "Sleep Apnea"
         ],
         "xaxis": "x",
         "yaxis": "y"
        },
        {
         "alignmentgroup": "True",
         "bingroup": "x",
         "hovertemplate": "Sleep Disorder=%{x}<br>count=%{y}<extra></extra>",
         "legendgroup": "Insomnia",
         "marker": {
          "color": "#C39BD3",
          "pattern": {
           "shape": ""
          }
         },
         "name": "Insomnia",
         "offsetgroup": "Insomnia",
         "orientation": "v",
         "showlegend": true,
         "texttemplate": "%{value}",
         "type": "histogram",
         "x": [
          "Insomnia",
          "Insomnia",
          "Insomnia",
          "Insomnia",
          "Insomnia",
          "Insomnia",
          "Insomnia",
          "Insomnia",
          "Insomnia",
          "Insomnia",
          "Insomnia",
          "Insomnia",
          "Insomnia",
          "Insomnia",
          "Insomnia",
          "Insomnia",
          "Insomnia",
          "Insomnia",
          "Insomnia",
          "Insomnia",
          "Insomnia",
          "Insomnia",
          "Insomnia",
          "Insomnia",
          "Insomnia",
          "Insomnia",
          "Insomnia",
          "Insomnia",
          "Insomnia",
          "Insomnia",
          "Insomnia",
          "Insomnia",
          "Insomnia",
          "Insomnia",
          "Insomnia",
          "Insomnia",
          "Insomnia",
          "Insomnia",
          "Insomnia",
          "Insomnia",
          "Insomnia",
          "Insomnia",
          "Insomnia",
          "Insomnia",
          "Insomnia",
          "Insomnia",
          "Insomnia",
          "Insomnia",
          "Insomnia",
          "Insomnia",
          "Insomnia",
          "Insomnia",
          "Insomnia",
          "Insomnia",
          "Insomnia",
          "Insomnia",
          "Insomnia",
          "Insomnia",
          "Insomnia",
          "Insomnia",
          "Insomnia",
          "Insomnia",
          "Insomnia",
          "Insomnia",
          "Insomnia",
          "Insomnia",
          "Insomnia",
          "Insomnia",
          "Insomnia",
          "Insomnia",
          "Insomnia",
          "Insomnia",
          "Insomnia",
          "Insomnia",
          "Insomnia",
          "Insomnia",
          "Insomnia"
         ],
         "xaxis": "x",
         "yaxis": "y"
        }
       ],
       "layout": {
        "barmode": "group",
        "legend": {
         "title": {
          "text": "Sleep Disorder"
         },
         "tracegroupgap": 0
        },
        "margin": {
         "t": 60
        },
        "paper_bgcolor": "#EBDEF0",
        "plot_bgcolor": "#EBDEF0",
        "showlegend": true,
        "template": {
         "data": {
          "bar": [
           {
            "error_x": {
             "color": "#2a3f5f"
            },
            "error_y": {
             "color": "#2a3f5f"
            },
            "marker": {
             "line": {
              "color": "#E5ECF6",
              "width": 0.5
             },
             "pattern": {
              "fillmode": "overlay",
              "size": 10,
              "solidity": 0.2
             }
            },
            "type": "bar"
           }
          ],
          "barpolar": [
           {
            "marker": {
             "line": {
              "color": "#E5ECF6",
              "width": 0.5
             },
             "pattern": {
              "fillmode": "overlay",
              "size": 10,
              "solidity": 0.2
             }
            },
            "type": "barpolar"
           }
          ],
          "carpet": [
           {
            "aaxis": {
             "endlinecolor": "#2a3f5f",
             "gridcolor": "white",
             "linecolor": "white",
             "minorgridcolor": "white",
             "startlinecolor": "#2a3f5f"
            },
            "baxis": {
             "endlinecolor": "#2a3f5f",
             "gridcolor": "white",
             "linecolor": "white",
             "minorgridcolor": "white",
             "startlinecolor": "#2a3f5f"
            },
            "type": "carpet"
           }
          ],
          "choropleth": [
           {
            "colorbar": {
             "outlinewidth": 0,
             "ticks": ""
            },
            "type": "choropleth"
           }
          ],
          "contour": [
           {
            "colorbar": {
             "outlinewidth": 0,
             "ticks": ""
            },
            "colorscale": [
             [
              0,
              "#0d0887"
             ],
             [
              0.1111111111111111,
              "#46039f"
             ],
             [
              0.2222222222222222,
              "#7201a8"
             ],
             [
              0.3333333333333333,
              "#9c179e"
             ],
             [
              0.4444444444444444,
              "#bd3786"
             ],
             [
              0.5555555555555556,
              "#d8576b"
             ],
             [
              0.6666666666666666,
              "#ed7953"
             ],
             [
              0.7777777777777778,
              "#fb9f3a"
             ],
             [
              0.8888888888888888,
              "#fdca26"
             ],
             [
              1,
              "#f0f921"
             ]
            ],
            "type": "contour"
           }
          ],
          "contourcarpet": [
           {
            "colorbar": {
             "outlinewidth": 0,
             "ticks": ""
            },
            "type": "contourcarpet"
           }
          ],
          "heatmap": [
           {
            "colorbar": {
             "outlinewidth": 0,
             "ticks": ""
            },
            "colorscale": [
             [
              0,
              "#0d0887"
             ],
             [
              0.1111111111111111,
              "#46039f"
             ],
             [
              0.2222222222222222,
              "#7201a8"
             ],
             [
              0.3333333333333333,
              "#9c179e"
             ],
             [
              0.4444444444444444,
              "#bd3786"
             ],
             [
              0.5555555555555556,
              "#d8576b"
             ],
             [
              0.6666666666666666,
              "#ed7953"
             ],
             [
              0.7777777777777778,
              "#fb9f3a"
             ],
             [
              0.8888888888888888,
              "#fdca26"
             ],
             [
              1,
              "#f0f921"
             ]
            ],
            "type": "heatmap"
           }
          ],
          "heatmapgl": [
           {
            "colorbar": {
             "outlinewidth": 0,
             "ticks": ""
            },
            "colorscale": [
             [
              0,
              "#0d0887"
             ],
             [
              0.1111111111111111,
              "#46039f"
             ],
             [
              0.2222222222222222,
              "#7201a8"
             ],
             [
              0.3333333333333333,
              "#9c179e"
             ],
             [
              0.4444444444444444,
              "#bd3786"
             ],
             [
              0.5555555555555556,
              "#d8576b"
             ],
             [
              0.6666666666666666,
              "#ed7953"
             ],
             [
              0.7777777777777778,
              "#fb9f3a"
             ],
             [
              0.8888888888888888,
              "#fdca26"
             ],
             [
              1,
              "#f0f921"
             ]
            ],
            "type": "heatmapgl"
           }
          ],
          "histogram": [
           {
            "marker": {
             "pattern": {
              "fillmode": "overlay",
              "size": 10,
              "solidity": 0.2
             }
            },
            "type": "histogram"
           }
          ],
          "histogram2d": [
           {
            "colorbar": {
             "outlinewidth": 0,
             "ticks": ""
            },
            "colorscale": [
             [
              0,
              "#0d0887"
             ],
             [
              0.1111111111111111,
              "#46039f"
             ],
             [
              0.2222222222222222,
              "#7201a8"
             ],
             [
              0.3333333333333333,
              "#9c179e"
             ],
             [
              0.4444444444444444,
              "#bd3786"
             ],
             [
              0.5555555555555556,
              "#d8576b"
             ],
             [
              0.6666666666666666,
              "#ed7953"
             ],
             [
              0.7777777777777778,
              "#fb9f3a"
             ],
             [
              0.8888888888888888,
              "#fdca26"
             ],
             [
              1,
              "#f0f921"
             ]
            ],
            "type": "histogram2d"
           }
          ],
          "histogram2dcontour": [
           {
            "colorbar": {
             "outlinewidth": 0,
             "ticks": ""
            },
            "colorscale": [
             [
              0,
              "#0d0887"
             ],
             [
              0.1111111111111111,
              "#46039f"
             ],
             [
              0.2222222222222222,
              "#7201a8"
             ],
             [
              0.3333333333333333,
              "#9c179e"
             ],
             [
              0.4444444444444444,
              "#bd3786"
             ],
             [
              0.5555555555555556,
              "#d8576b"
             ],
             [
              0.6666666666666666,
              "#ed7953"
             ],
             [
              0.7777777777777778,
              "#fb9f3a"
             ],
             [
              0.8888888888888888,
              "#fdca26"
             ],
             [
              1,
              "#f0f921"
             ]
            ],
            "type": "histogram2dcontour"
           }
          ],
          "mesh3d": [
           {
            "colorbar": {
             "outlinewidth": 0,
             "ticks": ""
            },
            "type": "mesh3d"
           }
          ],
          "parcoords": [
           {
            "line": {
             "colorbar": {
              "outlinewidth": 0,
              "ticks": ""
             }
            },
            "type": "parcoords"
           }
          ],
          "pie": [
           {
            "automargin": true,
            "type": "pie"
           }
          ],
          "scatter": [
           {
            "fillpattern": {
             "fillmode": "overlay",
             "size": 10,
             "solidity": 0.2
            },
            "type": "scatter"
           }
          ],
          "scatter3d": [
           {
            "line": {
             "colorbar": {
              "outlinewidth": 0,
              "ticks": ""
             }
            },
            "marker": {
             "colorbar": {
              "outlinewidth": 0,
              "ticks": ""
             }
            },
            "type": "scatter3d"
           }
          ],
          "scattercarpet": [
           {
            "marker": {
             "colorbar": {
              "outlinewidth": 0,
              "ticks": ""
             }
            },
            "type": "scattercarpet"
           }
          ],
          "scattergeo": [
           {
            "marker": {
             "colorbar": {
              "outlinewidth": 0,
              "ticks": ""
             }
            },
            "type": "scattergeo"
           }
          ],
          "scattergl": [
           {
            "marker": {
             "colorbar": {
              "outlinewidth": 0,
              "ticks": ""
             }
            },
            "type": "scattergl"
           }
          ],
          "scattermapbox": [
           {
            "marker": {
             "colorbar": {
              "outlinewidth": 0,
              "ticks": ""
             }
            },
            "type": "scattermapbox"
           }
          ],
          "scatterpolar": [
           {
            "marker": {
             "colorbar": {
              "outlinewidth": 0,
              "ticks": ""
             }
            },
            "type": "scatterpolar"
           }
          ],
          "scatterpolargl": [
           {
            "marker": {
             "colorbar": {
              "outlinewidth": 0,
              "ticks": ""
             }
            },
            "type": "scatterpolargl"
           }
          ],
          "scatterternary": [
           {
            "marker": {
             "colorbar": {
              "outlinewidth": 0,
              "ticks": ""
             }
            },
            "type": "scatterternary"
           }
          ],
          "surface": [
           {
            "colorbar": {
             "outlinewidth": 0,
             "ticks": ""
            },
            "colorscale": [
             [
              0,
              "#0d0887"
             ],
             [
              0.1111111111111111,
              "#46039f"
             ],
             [
              0.2222222222222222,
              "#7201a8"
             ],
             [
              0.3333333333333333,
              "#9c179e"
             ],
             [
              0.4444444444444444,
              "#bd3786"
             ],
             [
              0.5555555555555556,
              "#d8576b"
             ],
             [
              0.6666666666666666,
              "#ed7953"
             ],
             [
              0.7777777777777778,
              "#fb9f3a"
             ],
             [
              0.8888888888888888,
              "#fdca26"
             ],
             [
              1,
              "#f0f921"
             ]
            ],
            "type": "surface"
           }
          ],
          "table": [
           {
            "cells": {
             "fill": {
              "color": "#EBF0F8"
             },
             "line": {
              "color": "white"
             }
            },
            "header": {
             "fill": {
              "color": "#C8D4E3"
             },
             "line": {
              "color": "white"
             }
            },
            "type": "table"
           }
          ]
         },
         "layout": {
          "annotationdefaults": {
           "arrowcolor": "#2a3f5f",
           "arrowhead": 0,
           "arrowwidth": 1
          },
          "autotypenumbers": "strict",
          "coloraxis": {
           "colorbar": {
            "outlinewidth": 0,
            "ticks": ""
           }
          },
          "colorscale": {
           "diverging": [
            [
             0,
             "#8e0152"
            ],
            [
             0.1,
             "#c51b7d"
            ],
            [
             0.2,
             "#de77ae"
            ],
            [
             0.3,
             "#f1b6da"
            ],
            [
             0.4,
             "#fde0ef"
            ],
            [
             0.5,
             "#f7f7f7"
            ],
            [
             0.6,
             "#e6f5d0"
            ],
            [
             0.7,
             "#b8e186"
            ],
            [
             0.8,
             "#7fbc41"
            ],
            [
             0.9,
             "#4d9221"
            ],
            [
             1,
             "#276419"
            ]
           ],
           "sequential": [
            [
             0,
             "#0d0887"
            ],
            [
             0.1111111111111111,
             "#46039f"
            ],
            [
             0.2222222222222222,
             "#7201a8"
            ],
            [
             0.3333333333333333,
             "#9c179e"
            ],
            [
             0.4444444444444444,
             "#bd3786"
            ],
            [
             0.5555555555555556,
             "#d8576b"
            ],
            [
             0.6666666666666666,
             "#ed7953"
            ],
            [
             0.7777777777777778,
             "#fb9f3a"
            ],
            [
             0.8888888888888888,
             "#fdca26"
            ],
            [
             1,
             "#f0f921"
            ]
           ],
           "sequentialminus": [
            [
             0,
             "#0d0887"
            ],
            [
             0.1111111111111111,
             "#46039f"
            ],
            [
             0.2222222222222222,
             "#7201a8"
            ],
            [
             0.3333333333333333,
             "#9c179e"
            ],
            [
             0.4444444444444444,
             "#bd3786"
            ],
            [
             0.5555555555555556,
             "#d8576b"
            ],
            [
             0.6666666666666666,
             "#ed7953"
            ],
            [
             0.7777777777777778,
             "#fb9f3a"
            ],
            [
             0.8888888888888888,
             "#fdca26"
            ],
            [
             1,
             "#f0f921"
            ]
           ]
          },
          "colorway": [
           "#636efa",
           "#EF553B",
           "#00cc96",
           "#ab63fa",
           "#FFA15A",
           "#19d3f3",
           "#FF6692",
           "#B6E880",
           "#FF97FF",
           "#FECB52"
          ],
          "font": {
           "color": "#2a3f5f"
          },
          "geo": {
           "bgcolor": "white",
           "lakecolor": "white",
           "landcolor": "#E5ECF6",
           "showlakes": true,
           "showland": true,
           "subunitcolor": "white"
          },
          "hoverlabel": {
           "align": "left"
          },
          "hovermode": "closest",
          "mapbox": {
           "style": "light"
          },
          "paper_bgcolor": "white",
          "plot_bgcolor": "#E5ECF6",
          "polar": {
           "angularaxis": {
            "gridcolor": "white",
            "linecolor": "white",
            "ticks": ""
           },
           "bgcolor": "#E5ECF6",
           "radialaxis": {
            "gridcolor": "white",
            "linecolor": "white",
            "ticks": ""
           }
          },
          "scene": {
           "xaxis": {
            "backgroundcolor": "#E5ECF6",
            "gridcolor": "white",
            "gridwidth": 2,
            "linecolor": "white",
            "showbackground": true,
            "ticks": "",
            "zerolinecolor": "white"
           },
           "yaxis": {
            "backgroundcolor": "#E5ECF6",
            "gridcolor": "white",
            "gridwidth": 2,
            "linecolor": "white",
            "showbackground": true,
            "ticks": "",
            "zerolinecolor": "white"
           },
           "zaxis": {
            "backgroundcolor": "#E5ECF6",
            "gridcolor": "white",
            "gridwidth": 2,
            "linecolor": "white",
            "showbackground": true,
            "ticks": "",
            "zerolinecolor": "white"
           }
          },
          "shapedefaults": {
           "line": {
            "color": "#2a3f5f"
           }
          },
          "ternary": {
           "aaxis": {
            "gridcolor": "white",
            "linecolor": "white",
            "ticks": ""
           },
           "baxis": {
            "gridcolor": "white",
            "linecolor": "white",
            "ticks": ""
           },
           "bgcolor": "#E5ECF6",
           "caxis": {
            "gridcolor": "white",
            "linecolor": "white",
            "ticks": ""
           }
          },
          "title": {
           "x": 0.05
          },
          "xaxis": {
           "automargin": true,
           "gridcolor": "white",
           "linecolor": "white",
           "ticks": "",
           "title": {
            "standoff": 15
           },
           "zerolinecolor": "white",
           "zerolinewidth": 2
          },
          "yaxis": {
           "automargin": true,
           "gridcolor": "white",
           "linecolor": "white",
           "ticks": "",
           "title": {
            "standoff": 15
           },
           "zerolinecolor": "white",
           "zerolinewidth": 2
          }
         }
        },
        "title": {
         "font": {
          "size": 25
         },
         "text": "<b>Distribution of persons have sleep disorder or not</b>.."
        },
        "xaxis": {
         "anchor": "y",
         "categoryarray": [
          "Unknown",
          "Sleep Apnea",
          "Insomnia"
         ],
         "categoryorder": "array",
         "domain": [
          0,
          1
         ],
         "title": {
          "text": "Sleep Disorder"
         }
        },
        "yaxis": {
         "anchor": "x",
         "domain": [
          0,
          1
         ],
         "showgrid": false,
         "title": {
          "text": "count"
         }
        }
       }
      }
     },
     "metadata": {},
     "output_type": "display_data"
    }
   ],
   "source": [
    "import pandas as pd\n",
    "import plotly.express as px\n",
    "\n",
    "# Veriyi okuma\n",
    "sleep_data = pd.read_csv('Sleep_health_and_lifestyle_dataset.csv')\n",
    "\n",
    "# 'None' değerleri 'Unknown' olarak değiştirme\n",
    "sleep_data['Sleep Disorder'].fillna('Unknown', inplace=True)\n",
    "\n",
    "# Histogram oluşturma, 'None' değerlerini filtreleme\n",
    "fig = px.histogram(sleep_data[sleep_data['Sleep Disorder'] != 'None'],\n",
    "                   x='Sleep Disorder', \n",
    "                   barmode=\"group\",\n",
    "                   color='Sleep Disorder',\n",
    "                   color_discrete_sequence=['white', '#4A235A', '#C39BD3'],\n",
    "                   text_auto=True)\n",
    "\n",
    "# Layout ayarları\n",
    "fig.update_layout(title='<b>Distribution of persons have sleep disorder or not</b>..',\n",
    "                  title_font={'size': 25},\n",
    "                  paper_bgcolor='#EBDEF0',\n",
    "                  plot_bgcolor='#EBDEF0',\n",
    "                  showlegend=True)\n",
    "\n",
    "# Eksen ayarları\n",
    "fig.update_yaxes(showgrid=False)\n",
    "\n",
    "# Çıktıyı gösterme\n",
    "fig.show()\n"
   ]
  },
  {
   "cell_type": "code",
   "execution_count": 75,
   "metadata": {},
   "outputs": [
    {
     "name": "stdout",
     "output_type": "stream",
     "text": [
      "The values of Sex column are : \u001b[5m\u001b[35m['Male' 'Female']\u001b[0m\n"
     ]
    }
   ],
   "source": [
    "Gender=colored(sleep_data['Gender'].unique(), \"magenta\",None, attrs=[\"blink\"])\n",
    "print('The values of Sex column are :',Gender)"
   ]
  },
  {
   "cell_type": "code",
   "execution_count": 76,
   "metadata": {},
   "outputs": [
    {
     "data": {
      "text/plain": [
       "Sleep Disorder  Gender\n",
       "Insomnia        Male       41\n",
       "                Female     36\n",
       "None            Male      137\n",
       "                Female     82\n",
       "Sleep Apnea     Female     67\n",
       "                Male       11\n",
       "Name: count, dtype: int64"
      ]
     },
     "execution_count": 76,
     "metadata": {},
     "output_type": "execute_result"
    }
   ],
   "source": [
    "sleep_data.groupby('Sleep Disorder')['Gender'].value_counts()"
   ]
  },
  {
   "cell_type": "code",
   "execution_count": 79,
   "metadata": {},
   "outputs": [
    {
     "data": {
      "image/png": "[encoded data removed]",
      "text/plain": [
       "<Figure size 1500x700 with 1 Axes>"
      ]
     },
     "metadata": {},
     "output_type": "display_data"
    }
   ],
   "source": [
    "sleep_data.groupby('Sleep Disorder')['Gender'].value_counts().plot.pie(autopct ='%1.1f%%',figsize=(15,7),\n",
    "                                                                       colors=['#4A235A','pink','#4A235A','pink','#4A235A','pink'])\n",
    "plt.title('The relationship between (sex) and (Sleep Disorder)')\n",
    "plt.axis('equal')\n",
    "plt.show()"
   ]
  },
  {
   "cell_type": "code",
   "execution_count": 80,
   "metadata": {},
   "outputs": [
    {
     "data": {
      "application/vnd.plotly.v1+json": {
       "config": {
        "plotlyServerURL": "https://plot.ly"
       },
       "data": [
        {
         "branchvalues": "total",
         "customdata": [
          [
           "Insomnia"
          ],
          [
           "None"
          ],
          [
           "Sleep Apnea"
          ],
          [
           "Insomnia"
          ],
          [
           "None"
          ],
          [
           "Insomnia"
          ],
          [
           "Sleep Apnea"
          ],
          [
           "None"
          ],
          [
           "Insomnia"
          ],
          [
           "None"
          ],
          [
           "Insomnia"
          ],
          [
           "Sleep Apnea"
          ],
          [
           "None"
          ],
          [
           "Sleep Apnea"
          ],
          [
           "Sleep Apnea"
          ],
          [
           "None"
          ],
          [
           "Insomnia"
          ],
          [
           "None"
          ],
          [
           "Sleep Apnea"
          ],
          [
           "None"
          ],
          [
           "Insomnia"
          ],
          [
           "Sleep Apnea"
          ],
          [
           "Insomnia"
          ],
          [
           "None"
          ],
          [
           "Sleep Apnea"
          ],
          [
           "(?)"
          ],
          [
           "Insomnia"
          ],
          [
           "None"
          ],
          [
           "Sleep Apnea"
          ],
          [
           "None"
          ]
         ],
         "domain": {
          "x": [
           0,
           1
          ],
          "y": [
           0,
           1
          ]
         },
         "hovertemplate": "labels=%{label}<br>count=%{value}<br>parent=%{parent}<br>id=%{id}<br>Sleep Disorder=%{customdata[0]}<extra></extra>",
         "ids": [
          "Jobs/Insomnia/Engineer",
          "Jobs/None/Engineer",
          "Jobs/Sleep Apnea/Salesperson",
          "Jobs/Insomnia/Accountant",
          "Jobs/None",
          "Jobs/Insomnia",
          "Jobs/Sleep Apnea/Teacher",
          "Jobs/None/Teacher",
          "Jobs/Insomnia/Teacher",
          "Jobs/None/Software Engineer",
          "Jobs/Insomnia/Software Engineer",
          "Jobs/Sleep Apnea/Scientist",
          "Jobs/None/Scientist",
          "Jobs/Sleep Apnea/Sales Representative",
          "Jobs/Sleep Apnea/Nurse",
          "Jobs/None/Nurse",
          "Jobs/Insomnia/Nurse",
          "Jobs/None/Manager",
          "Jobs/Sleep Apnea/Lawyer",
          "Jobs/None/Lawyer",
          "Jobs/Insomnia/Lawyer",
          "Jobs/Sleep Apnea/Engineer",
          "Jobs/Insomnia/Doctor",
          "Jobs/None/Accountant",
          "Jobs/Sleep Apnea",
          "Jobs",
          "Jobs/Insomnia/Salesperson",
          "Jobs/None/Salesperson",
          "Jobs/Sleep Apnea/Doctor",
          "Jobs/None/Doctor"
         ],
         "labels": [
          "Engineer",
          "Engineer",
          "Salesperson",
          "Accountant",
          "None",
          "Insomnia",
          "Teacher",
          "Teacher",
          "Teacher",
          "Software Engineer",
          "Software Engineer",
          "Scientist",
          "Scientist",
          "Sales Representative",
          "Nurse",
          "Nurse",
          "Nurse",
          "Manager",
          "Lawyer",
          "Lawyer",
          "Lawyer",
          "Engineer",
          "Doctor",
          "Accountant",
          "Sleep Apnea",
          "Jobs",
          "Salesperson",
          "Salesperson",
          "Doctor",
          "Doctor"
         ],
         "marker": {
          "colors": [
           "#EBDEF0",
           "#C39BD3",
           "#4A235A",
           "#EBDEF0",
           "#C39BD3",
           "#EBDEF0",
           "#4A235A",
           "#C39BD3",
           "#EBDEF0",
           "#C39BD3",
           "#EBDEF0",
           "#4A235A",
           "#C39BD3",
           "#4A235A",
           "#4A235A",
           "#C39BD3",
           "#EBDEF0",
           "#C39BD3",
           "#4A235A",
           "#C39BD3",
           "#EBDEF0",
           "#4A235A",
           "#EBDEF0",
           "#C39BD3",
           "#4A235A",
           "#EBDEF0",
           "#EBDEF0",
           "#C39BD3",
           "#4A235A",
           "#C39BD3"
          ]
         },
         "name": "",
         "parents": [
          "Jobs/Insomnia",
          "Jobs/None",
          "Jobs/Sleep Apnea",
          "Jobs/Insomnia",
          "Jobs",
          "Jobs",
          "Jobs/Sleep Apnea",
          "Jobs/None",
          "Jobs/Insomnia",
          "Jobs/None",
          "Jobs/Insomnia",
          "Jobs/Sleep Apnea",
          "Jobs/None",
          "Jobs/Sleep Apnea",
          "Jobs/Sleep Apnea",
          "Jobs/None",
          "Jobs/Insomnia",
          "Jobs/None",
          "Jobs/Sleep Apnea",
          "Jobs/None",
          "Jobs/Insomnia",
          "Jobs/Sleep Apnea",
          "Jobs/Insomnia",
          "Jobs/None",
          "Jobs",
          "",
          "Jobs/Insomnia",
          "Jobs/None",
          "Jobs/Sleep Apnea",
          "Jobs/None"
         ],
         "type": "treemap",
         "values": [
          5,
          57,
          1,
          7,
          219,
          77,
          4,
          9,
          27,
          3,
          1,
          2,
          2,
          2,
          61,
          9,
          3,
          1,
          3,
          42,
          2,
          1,
          3,
          30,
          78,
          374,
          29,
          2,
          4,
          64
         ]
        }
       ],
       "layout": {
        "legend": {
         "tracegroupgap": 0
        },
        "margin": {
         "t": 60
        },
        "template": {
         "data": {
          "bar": [
           {
            "error_x": {
             "color": "#2a3f5f"
            },
            "error_y": {
             "color": "#2a3f5f"
            },
            "marker": {
             "line": {
              "color": "#E5ECF6",
              "width": 0.5
             },
             "pattern": {
              "fillmode": "overlay",
              "size": 10,
              "solidity": 0.2
             }
            },
            "type": "bar"
           }
          ],
          "barpolar": [
           {
            "marker": {
             "line": {
              "color": "#E5ECF6",
              "width": 0.5
             },
             "pattern": {
              "fillmode": "overlay",
              "size": 10,
              "solidity": 0.2
             }
            },
            "type": "barpolar"
           }
          ],
          "carpet": [
           {
            "aaxis": {
             "endlinecolor": "#2a3f5f",
             "gridcolor": "white",
             "linecolor": "white",
             "minorgridcolor": "white",
             "startlinecolor": "#2a3f5f"
            },
            "baxis": {
             "endlinecolor": "#2a3f5f",
             "gridcolor": "white",
             "linecolor": "white",
             "minorgridcolor": "white",
             "startlinecolor": "#2a3f5f"
            },
            "type": "carpet"
           }
          ],
          "choropleth": [
           {
            "colorbar": {
             "outlinewidth": 0,
             "ticks": ""
            },
            "type": "choropleth"
           }
          ],
          "contour": [
           {
            "colorbar": {
             "outlinewidth": 0,
             "ticks": ""
            },
            "colorscale": [
             [
              0,
              "#0d0887"
             ],
             [
              0.1111111111111111,
              "#46039f"
             ],
             [
              0.2222222222222222,
              "#7201a8"
             ],
             [
              0.3333333333333333,
              "#9c179e"
             ],
             [
              0.4444444444444444,
              "#bd3786"
             ],
             [
              0.5555555555555556,
              "#d8576b"
             ],
             [
              0.6666666666666666,
              "#ed7953"
             ],
             [
              0.7777777777777778,
              "#fb9f3a"
             ],
             [
              0.8888888888888888,
              "#fdca26"
             ],
             [
              1,
              "#f0f921"
             ]
            ],
            "type": "contour"
           }
          ],
          "contourcarpet": [
           {
            "colorbar": {
             "outlinewidth": 0,
             "ticks": ""
            },
            "type": "contourcarpet"
           }
          ],
          "heatmap": [
           {
            "colorbar": {
             "outlinewidth": 0,
             "ticks": ""
            },
            "colorscale": [
             [
              0,
              "#0d0887"
             ],
             [
              0.1111111111111111,
              "#46039f"
             ],
             [
              0.2222222222222222,
              "#7201a8"
             ],
             [
              0.3333333333333333,
              "#9c179e"
             ],
             [
              0.4444444444444444,
              "#bd3786"
             ],
             [
              0.5555555555555556,
              "#d8576b"
             ],
             [
              0.6666666666666666,
              "#ed7953"
             ],
             [
              0.7777777777777778,
              "#fb9f3a"
             ],
             [
              0.8888888888888888,
              "#fdca26"
             ],
             [
              1,
              "#f0f921"
             ]
            ],
            "type": "heatmap"
           }
          ],
          "heatmapgl": [
           {
            "colorbar": {
             "outlinewidth": 0,
             "ticks": ""
            },
            "colorscale": [
             [
              0,
              "#0d0887"
             ],
             [
              0.1111111111111111,
              "#46039f"
             ],
             [
              0.2222222222222222,
              "#7201a8"
             ],
             [
              0.3333333333333333,
              "#9c179e"
             ],
             [
              0.4444444444444444,
              "#bd3786"
             ],
             [
              0.5555555555555556,
              "#d8576b"
             ],
             [
              0.6666666666666666,
              "#ed7953"
             ],
             [
              0.7777777777777778,
              "#fb9f3a"
             ],
             [
              0.8888888888888888,
              "#fdca26"
             ],
             [
              1,
              "#f0f921"
             ]
            ],
            "type": "heatmapgl"
           }
          ],
          "histogram": [
           {
            "marker": {
             "pattern": {
              "fillmode": "overlay",
              "size": 10,
              "solidity": 0.2
             }
            },
            "type": "histogram"
           }
          ],
          "histogram2d": [
           {
            "colorbar": {
             "outlinewidth": 0,
             "ticks": ""
            },
            "colorscale": [
             [
              0,
              "#0d0887"
             ],
             [
              0.1111111111111111,
              "#46039f"
             ],
             [
              0.2222222222222222,
              "#7201a8"
             ],
             [
              0.3333333333333333,
              "#9c179e"
             ],
             [
              0.4444444444444444,
              "#bd3786"
             ],
             [
              0.5555555555555556,
              "#d8576b"
             ],
             [
              0.6666666666666666,
              "#ed7953"
             ],
             [
              0.7777777777777778,
              "#fb9f3a"
             ],
             [
              0.8888888888888888,
              "#fdca26"
             ],
             [
              1,
              "#f0f921"
             ]
            ],
            "type": "histogram2d"
           }
          ],
          "histogram2dcontour": [
           {
            "colorbar": {
             "outlinewidth": 0,
             "ticks": ""
            },
            "colorscale": [
             [
              0,
              "#0d0887"
             ],
             [
              0.1111111111111111,
              "#46039f"
             ],
             [
              0.2222222222222222,
              "#7201a8"
             ],
             [
              0.3333333333333333,
              "#9c179e"
             ],
             [
              0.4444444444444444,
              "#bd3786"
             ],
             [
              0.5555555555555556,
              "#d8576b"
             ],
             [
              0.6666666666666666,
              "#ed7953"
             ],
             [
              0.7777777777777778,
              "#fb9f3a"
             ],
             [
              0.8888888888888888,
              "#fdca26"
             ],
             [
              1,
              "#f0f921"
             ]
            ],
            "type": "histogram2dcontour"
           }
          ],
          "mesh3d": [
           {
            "colorbar": {
             "outlinewidth": 0,
             "ticks": ""
            },
            "type": "mesh3d"
           }
          ],
          "parcoords": [
           {
            "line": {
             "colorbar": {
              "outlinewidth": 0,
              "ticks": ""
             }
            },
            "type": "parcoords"
           }
          ],
          "pie": [
           {
            "automargin": true,
            "type": "pie"
           }
          ],
          "scatter": [
           {
            "fillpattern": {
             "fillmode": "overlay",
             "size": 10,
             "solidity": 0.2
            },
            "type": "scatter"
           }
          ],
          "scatter3d": [
           {
            "line": {
             "colorbar": {
              "outlinewidth": 0,
              "ticks": ""
             }
            },
            "marker": {
             "colorbar": {
              "outlinewidth": 0,
              "ticks": ""
             }
            },
            "type": "scatter3d"
           }
          ],
          "scattercarpet": [
           {
            "marker": {
             "colorbar": {
              "outlinewidth": 0,
              "ticks": ""
             }
            },
            "type": "scattercarpet"
           }
          ],
          "scattergeo": [
           {
            "marker": {
             "colorbar": {
              "outlinewidth": 0,
              "ticks": ""
             }
            },
            "type": "scattergeo"
           }
          ],
          "scattergl": [
           {
            "marker": {
             "colorbar": {
              "outlinewidth": 0,
              "ticks": ""
             }
            },
            "type": "scattergl"
           }
          ],
          "scattermapbox": [
           {
            "marker": {
             "colorbar": {
              "outlinewidth": 0,
              "ticks": ""
             }
            },
            "type": "scattermapbox"
           }
          ],
          "scatterpolar": [
           {
            "marker": {
             "colorbar": {
              "outlinewidth": 0,
              "ticks": ""
             }
            },
            "type": "scatterpolar"
           }
          ],
          "scatterpolargl": [
           {
            "marker": {
             "colorbar": {
              "outlinewidth": 0,
              "ticks": ""
             }
            },
            "type": "scatterpolargl"
           }
          ],
          "scatterternary": [
           {
            "marker": {
             "colorbar": {
              "outlinewidth": 0,
              "ticks": ""
             }
            },
            "type": "scatterternary"
           }
          ],
          "surface": [
           {
            "colorbar": {
             "outlinewidth": 0,
             "ticks": ""
            },
            "colorscale": [
             [
              0,
              "#0d0887"
             ],
             [
              0.1111111111111111,
              "#46039f"
             ],
             [
              0.2222222222222222,
              "#7201a8"
             ],
             [
              0.3333333333333333,
              "#9c179e"
             ],
             [
              0.4444444444444444,
              "#bd3786"
             ],
             [
              0.5555555555555556,
              "#d8576b"
             ],
             [
              0.6666666666666666,
              "#ed7953"
             ],
             [
              0.7777777777777778,
              "#fb9f3a"
             ],
             [
              0.8888888888888888,
              "#fdca26"
             ],
             [
              1,
              "#f0f921"
             ]
            ],
            "type": "surface"
           }
          ],
          "table": [
           {
            "cells": {
             "fill": {
              "color": "#EBF0F8"
             },
             "line": {
              "color": "white"
             }
            },
            "header": {
             "fill": {
              "color": "#C8D4E3"
             },
             "line": {
              "color": "white"
             }
            },
            "type": "table"
           }
          ]
         },
         "layout": {
          "annotationdefaults": {
           "arrowcolor": "#2a3f5f",
           "arrowhead": 0,
           "arrowwidth": 1
          },
          "autotypenumbers": "strict",
          "coloraxis": {
           "colorbar": {
            "outlinewidth": 0,
            "ticks": ""
           }
          },
          "colorscale": {
           "diverging": [
            [
             0,
             "#8e0152"
            ],
            [
             0.1,
             "#c51b7d"
            ],
            [
             0.2,
             "#de77ae"
            ],
            [
             0.3,
             "#f1b6da"
            ],
            [
             0.4,
             "#fde0ef"
            ],
            [
             0.5,
             "#f7f7f7"
            ],
            [
             0.6,
             "#e6f5d0"
            ],
            [
             0.7,
             "#b8e186"
            ],
            [
             0.8,
             "#7fbc41"
            ],
            [
             0.9,
             "#4d9221"
            ],
            [
             1,
             "#276419"
            ]
           ],
           "sequential": [
            [
             0,
             "#0d0887"
            ],
            [
             0.1111111111111111,
             "#46039f"
            ],
            [
             0.2222222222222222,
             "#7201a8"
            ],
            [
             0.3333333333333333,
             "#9c179e"
            ],
            [
             0.4444444444444444,
             "#bd3786"
            ],
            [
             0.5555555555555556,
             "#d8576b"
            ],
            [
             0.6666666666666666,
             "#ed7953"
            ],
            [
             0.7777777777777778,
             "#fb9f3a"
            ],
            [
             0.8888888888888888,
             "#fdca26"
            ],
            [
             1,
             "#f0f921"
            ]
           ],
           "sequentialminus": [
            [
             0,
             "#0d0887"
            ],
            [
             0.1111111111111111,
             "#46039f"
            ],
            [
             0.2222222222222222,
             "#7201a8"
            ],
            [
             0.3333333333333333,
             "#9c179e"
            ],
            [
             0.4444444444444444,
             "#bd3786"
            ],
            [
             0.5555555555555556,
             "#d8576b"
            ],
            [
             0.6666666666666666,
             "#ed7953"
            ],
            [
             0.7777777777777778,
             "#fb9f3a"
            ],
            [
             0.8888888888888888,
             "#fdca26"
            ],
            [
             1,
             "#f0f921"
            ]
           ]
          },
          "colorway": [
           "#636efa",
           "#EF553B",
           "#00cc96",
           "#ab63fa",
           "#FFA15A",
           "#19d3f3",
           "#FF6692",
           "#B6E880",
           "#FF97FF",
           "#FECB52"
          ],
          "font": {
           "color": "#2a3f5f"
          },
          "geo": {
           "bgcolor": "white",
           "lakecolor": "white",
           "landcolor": "#E5ECF6",
           "showlakes": true,
           "showland": true,
           "subunitcolor": "white"
          },
          "hoverlabel": {
           "align": "left"
          },
          "hovermode": "closest",
          "mapbox": {
           "style": "light"
          },
          "paper_bgcolor": "white",
          "plot_bgcolor": "#E5ECF6",
          "polar": {
           "angularaxis": {
            "gridcolor": "white",
            "linecolor": "white",
            "ticks": ""
           },
           "bgcolor": "#E5ECF6",
           "radialaxis": {
            "gridcolor": "white",
            "linecolor": "white",
            "ticks": ""
           }
          },
          "scene": {
           "xaxis": {
            "backgroundcolor": "#E5ECF6",
            "gridcolor": "white",
            "gridwidth": 2,
            "linecolor": "white",
            "showbackground": true,
            "ticks": "",
            "zerolinecolor": "white"
           },
           "yaxis": {
            "backgroundcolor": "#E5ECF6",
            "gridcolor": "white",
            "gridwidth": 2,
            "linecolor": "white",
            "showbackground": true,
            "ticks": "",
            "zerolinecolor": "white"
           },
           "zaxis": {
            "backgroundcolor": "#E5ECF6",
            "gridcolor": "white",
            "gridwidth": 2,
            "linecolor": "white",
            "showbackground": true,
            "ticks": "",
            "zerolinecolor": "white"
           }
          },
          "shapedefaults": {
           "line": {
            "color": "#2a3f5f"
           }
          },
          "ternary": {
           "aaxis": {
            "gridcolor": "white",
            "linecolor": "white",
            "ticks": ""
           },
           "baxis": {
            "gridcolor": "white",
            "linecolor": "white",
            "ticks": ""
           },
           "bgcolor": "#E5ECF6",
           "caxis": {
            "gridcolor": "white",
            "linecolor": "white",
            "ticks": ""
           }
          },
          "title": {
           "x": 0.05
          },
          "xaxis": {
           "automargin": true,
           "gridcolor": "white",
           "linecolor": "white",
           "ticks": "",
           "title": {
            "standoff": 15
           },
           "zerolinecolor": "white",
           "zerolinewidth": 2
          },
          "yaxis": {
           "automargin": true,
           "gridcolor": "white",
           "linecolor": "white",
           "ticks": "",
           "title": {
            "standoff": 15
           },
           "zerolinecolor": "white",
           "zerolinewidth": 2
          }
         }
        },
        "title": {
         "font": {
          "size": 20
         },
         "text": "<b>The effect of job on sleep</b>.."
        },
        "treemapcolorway": [
         "#EBDEF0",
         "#C39BD3",
         "#4A235A"
        ]
       }
      }
     },
     "metadata": {},
     "output_type": "display_data"
    }
   ],
   "source": [
    "import pandas as pd\n",
    "import plotly.express as px\n",
    "\n",
    "# Veriyi okuma\n",
    "sleep_data = pd.read_csv('Sleep_health_and_lifestyle_dataset.csv')\n",
    "\n",
    "# Jobs sütununu ekleyerek yeni bir veri çerçevesi oluşturma\n",
    "new_data = sleep_data.assign(Jobs='Jobs')\n",
    "\n",
    "# 'None' değerleri 'Unknown' olarak değiştirme\n",
    "new_data['Sleep Disorder'].fillna('Unknown', inplace=True)\n",
    "\n",
    "# 'Unknown' değerlerini 'None' olarak değiştirme\n",
    "new_data['Sleep Disorder'].replace('Unknown', 'None', inplace=True)\n",
    "\n",
    "# Treemap oluşturma\n",
    "fig = px.treemap(new_data, \n",
    "                 path=['Jobs', 'Sleep Disorder', 'Occupation'],\n",
    "                 color='Sleep Disorder',\n",
    "                 color_discrete_sequence=['#EBDEF0', '#C39BD3', '#4A235A'])\n",
    "\n",
    "# Layout ayarları\n",
    "fig.update_layout(title='<b>The effect of job on sleep</b>..',\n",
    "                  title_font={'size': 20})\n",
    "\n",
    "# Çıktıyı gösterme\n",
    "fig.show()\n"
   ]
  },
  {
   "cell_type": "code",
   "execution_count": 81,
   "metadata": {},
   "outputs": [
    {
     "data": {
      "application/vnd.plotly.v1+json": {
       "config": {
        "plotlyServerURL": "https://plot.ly"
       },
       "data": [
        {
         "hovertemplate": "Sleep Disorder=None<br>Age=%{x}<br>probability=%{y}<extra></extra>",
         "legendgroup": "None",
         "line": {
          "dash": "solid",
          "shape": "hv"
         },
         "marker": {
          "color": "white",
          "symbol": "circle"
         },
         "mode": "lines",
         "name": "None",
         "orientation": "v",
         "showlegend": true,
         "type": "scatter",
         "x": [
          27,
          28,
          28,
          29,
          29,
          29,
          29,
          29,
          29,
          29,
          29,
          29,
          30,
          30,
          30,
          30,
          30,
          30,
          30,
          30,
          30,
          30,
          30,
          31,
          31,
          31,
          31,
          31,
          31,
          31,
          31,
          31,
          31,
          31,
          31,
          31,
          31,
          31,
          31,
          31,
          32,
          32,
          32,
          32,
          32,
          32,
          32,
          32,
          32,
          32,
          32,
          32,
          32,
          32,
          32,
          32,
          32,
          33,
          33,
          33,
          33,
          33,
          33,
          33,
          33,
          33,
          33,
          33,
          33,
          35,
          35,
          35,
          35,
          35,
          35,
          35,
          35,
          35,
          35,
          35,
          36,
          36,
          36,
          36,
          36,
          36,
          36,
          36,
          37,
          37,
          37,
          37,
          37,
          37,
          37,
          37,
          37,
          37,
          37,
          37,
          37,
          37,
          37,
          37,
          37,
          37,
          37,
          37,
          38,
          38,
          38,
          38,
          38,
          38,
          38,
          38,
          38,
          38,
          38,
          38,
          38,
          38,
          38,
          38,
          38,
          38,
          39,
          39,
          39,
          39,
          39,
          39,
          39,
          39,
          39,
          39,
          39,
          39,
          39,
          40,
          40,
          40,
          40,
          41,
          41,
          41,
          41,
          41,
          41,
          41,
          41,
          41,
          41,
          41,
          42,
          42,
          42,
          42,
          42,
          42,
          43,
          43,
          43,
          43,
          43,
          43,
          43,
          43,
          43,
          43,
          43,
          43,
          43,
          43,
          43,
          44,
          44,
          45,
          45,
          45,
          49,
          50,
          50,
          51,
          51,
          51,
          51,
          51,
          52,
          52,
          52,
          53,
          53,
          53,
          53,
          53,
          53,
          53,
          53,
          53,
          53,
          53,
          53,
          53,
          53,
          53,
          53,
          54,
          54,
          54,
          54,
          54,
          54,
          54,
          56,
          56,
          57,
          59,
          59
         ],
         "xaxis": "x",
         "y": [
          0.0045662100456621,
          0.0091324200913242,
          0.0136986301369863,
          0.0182648401826484,
          0.0228310502283105,
          0.0273972602739726,
          0.0319634703196347,
          0.0365296803652968,
          0.0410958904109589,
          0.045662100456621,
          0.0502283105022831,
          0.0547945205479452,
          0.0593607305936073,
          0.0639269406392694,
          0.0684931506849315,
          0.0730593607305936,
          0.0776255707762557,
          0.0821917808219178,
          0.0867579908675799,
          0.091324200913242,
          0.0958904109589041,
          0.1004566210045662,
          0.1050228310502283,
          0.1095890410958904,
          0.1141552511415525,
          0.1187214611872146,
          0.1232876712328767,
          0.1278538812785388,
          0.1324200913242009,
          0.136986301369863,
          0.1415525114155251,
          0.1461187214611872,
          0.1506849315068493,
          0.1552511415525114,
          0.1598173515981735,
          0.1643835616438356,
          0.1689497716894977,
          0.1735159817351598,
          0.1780821917808219,
          0.182648401826484,
          0.1872146118721461,
          0.1917808219178082,
          0.1963470319634703,
          0.2009132420091324,
          0.2054794520547945,
          0.2100456621004566,
          0.2146118721461187,
          0.2191780821917808,
          0.2237442922374429,
          0.228310502283105,
          0.2328767123287671,
          0.2374429223744292,
          0.2420091324200913,
          0.2465753424657534,
          0.2511415525114155,
          0.2557077625570776,
          0.2602739726027397,
          0.2648401826484018,
          0.2694063926940639,
          0.273972602739726,
          0.2785388127853881,
          0.2831050228310502,
          0.2876712328767123,
          0.2922374429223744,
          0.2968036529680365,
          0.3013698630136986,
          0.3059360730593607,
          0.3105022831050228,
          0.3150684931506849,
          0.319634703196347,
          0.3242009132420091,
          0.3287671232876712,
          0.3333333333333333,
          0.3378995433789954,
          0.3424657534246575,
          0.3470319634703196,
          0.3515981735159817,
          0.3561643835616438,
          0.3607305936073059,
          0.365296803652968,
          0.3698630136986301,
          0.3744292237442922,
          0.3789954337899543,
          0.3835616438356164,
          0.3881278538812785,
          0.3926940639269406,
          0.3972602739726027,
          0.4018264840182648,
          0.4063926940639269,
          0.410958904109589,
          0.4155251141552511,
          0.4200913242009132,
          0.4246575342465753,
          0.4292237442922374,
          0.4337899543378995,
          0.4383561643835616,
          0.4429223744292237,
          0.4474885844748858,
          0.4520547945205479,
          0.45662100456621,
          0.4611872146118721,
          0.4657534246575342,
          0.4703196347031963,
          0.4748858447488584,
          0.4794520547945205,
          0.4840182648401826,
          0.4885844748858447,
          0.4931506849315068,
          0.4977168949771689,
          0.502283105022831,
          0.5068493150684932,
          0.5114155251141552,
          0.5159817351598174,
          0.5205479452054794,
          0.5251141552511416,
          0.5296803652968036,
          0.5342465753424658,
          0.5388127853881278,
          0.54337899543379,
          0.547945205479452,
          0.5525114155251142,
          0.5570776255707762,
          0.5616438356164384,
          0.5662100456621004,
          0.5707762557077626,
          0.5753424657534246,
          0.5799086757990868,
          0.5844748858447488,
          0.589041095890411,
          0.593607305936073,
          0.5981735159817352,
          0.6027397260273972,
          0.6073059360730594,
          0.6118721461187214,
          0.6164383561643836,
          0.6210045662100456,
          0.6255707762557078,
          0.6301369863013698,
          0.634703196347032,
          0.639269406392694,
          0.6438356164383562,
          0.6484018264840182,
          0.6529680365296804,
          0.6575342465753424,
          0.6621004566210046,
          0.6666666666666666,
          0.6712328767123288,
          0.6757990867579908,
          0.680365296803653,
          0.684931506849315,
          0.6894977168949772,
          0.6940639269406392,
          0.6986301369863014,
          0.7031963470319634,
          0.7077625570776256,
          0.7123287671232876,
          0.7168949771689498,
          0.7214611872146118,
          0.726027397260274,
          0.730593607305936,
          0.7351598173515982,
          0.7397260273972602,
          0.7442922374429224,
          0.7488584474885844,
          0.7534246575342466,
          0.7579908675799086,
          0.7625570776255708,
          0.7671232876712328,
          0.771689497716895,
          0.776255707762557,
          0.7808219178082192,
          0.7853881278538812,
          0.7899543378995434,
          0.7945205479452054,
          0.7990867579908676,
          0.8036529680365296,
          0.8082191780821918,
          0.8127853881278538,
          0.817351598173516,
          0.821917808219178,
          0.8264840182648402,
          0.8310502283105022,
          0.8356164383561644,
          0.8401826484018264,
          0.8447488584474886,
          0.8493150684931506,
          0.8538812785388128,
          0.8584474885844748,
          0.863013698630137,
          0.867579908675799,
          0.8721461187214612,
          0.8767123287671232,
          0.8812785388127854,
          0.8858447488584474,
          0.8904109589041096,
          0.8949771689497716,
          0.8995433789954338,
          0.9041095890410958,
          0.908675799086758,
          0.91324200913242,
          0.9178082191780822,
          0.9223744292237442,
          0.9269406392694064,
          0.9315068493150684,
          0.9360730593607306,
          0.9406392694063926,
          0.9452054794520548,
          0.9497716894977168,
          0.954337899543379,
          0.958904109589041,
          0.9634703196347032,
          0.9680365296803652,
          0.9726027397260274,
          0.9771689497716894,
          0.9817351598173516,
          0.9863013698630136,
          0.9908675799086758,
          0.9954337899543378,
          1
         ],
         "yaxis": "y"
        },
        {
         "hovertemplate": "Sleep Disorder=Insomnia<br>Age=%{x}<br>probability=%{y}<extra></extra>",
         "legendgroup": "Insomnia",
         "line": {
          "dash": "solid",
          "shape": "hv"
         },
         "marker": {
          "color": "#4A235A",
          "symbol": "circle"
         },
         "mode": "lines",
         "name": "Insomnia",
         "orientation": "v",
         "showlegend": true,
         "type": "scatter",
         "x": [
          28,
          29,
          29,
          30,
          33,
          36,
          36,
          39,
          39,
          41,
          42,
          43,
          43,
          43,
          43,
          43,
          43,
          43,
          43,
          43,
          43,
          43,
          43,
          43,
          43,
          43,
          43,
          43,
          44,
          44,
          44,
          44,
          44,
          44,
          44,
          44,
          44,
          44,
          44,
          44,
          44,
          44,
          44,
          44,
          44,
          44,
          44,
          44,
          44,
          44,
          44,
          44,
          44,
          44,
          44,
          44,
          45,
          45,
          45,
          45,
          45,
          45,
          45,
          45,
          45,
          45,
          45,
          48,
          48,
          50,
          52,
          52,
          52,
          52,
          52,
          52,
          53
         ],
         "xaxis": "x",
         "y": [
          0.012987012987012988,
          0.025974025974025976,
          0.03896103896103896,
          0.05194805194805195,
          0.06493506493506493,
          0.07792207792207792,
          0.09090909090909091,
          0.1038961038961039,
          0.11688311688311688,
          0.12987012987012986,
          0.14285714285714285,
          0.15584415584415584,
          0.16883116883116883,
          0.18181818181818182,
          0.19480519480519481,
          0.2077922077922078,
          0.22077922077922077,
          0.23376623376623376,
          0.24675324675324675,
          0.2597402597402597,
          0.2727272727272727,
          0.2857142857142857,
          0.2987012987012987,
          0.3116883116883117,
          0.3246753246753247,
          0.33766233766233766,
          0.35064935064935066,
          0.36363636363636365,
          0.37662337662337664,
          0.38961038961038963,
          0.4025974025974026,
          0.4155844155844156,
          0.42857142857142855,
          0.44155844155844154,
          0.45454545454545453,
          0.4675324675324675,
          0.4805194805194805,
          0.4935064935064935,
          0.5064935064935064,
          0.5194805194805194,
          0.5324675324675324,
          0.5454545454545454,
          0.5584415584415584,
          0.5714285714285714,
          0.5844155844155844,
          0.5974025974025974,
          0.6103896103896104,
          0.6233766233766234,
          0.6363636363636364,
          0.6493506493506493,
          0.6623376623376623,
          0.6753246753246753,
          0.6883116883116883,
          0.7012987012987013,
          0.7142857142857143,
          0.7272727272727273,
          0.7402597402597403,
          0.7532467532467533,
          0.7662337662337663,
          0.7792207792207793,
          0.7922077922077922,
          0.8051948051948052,
          0.8181818181818182,
          0.8311688311688312,
          0.8441558441558441,
          0.8571428571428571,
          0.8701298701298701,
          0.8831168831168831,
          0.8961038961038961,
          0.9090909090909091,
          0.922077922077922,
          0.935064935064935,
          0.948051948051948,
          0.961038961038961,
          0.974025974025974,
          0.987012987012987,
          1
         ],
         "yaxis": "y"
        },
        {
         "hovertemplate": "Sleep Disorder=Sleep Apnea<br>Age=%{x}<br>probability=%{y}<extra></extra>",
         "legendgroup": "Sleep Apnea",
         "line": {
          "dash": "solid",
          "shape": "hv"
         },
         "marker": {
          "color": "#C39BD3",
          "symbol": "circle"
         },
         "mode": "lines",
         "name": "Sleep Apnea",
         "orientation": "v",
         "showlegend": true,
         "type": "scatter",
         "x": [
          28,
          28,
          29,
          29,
          30,
          31,
          34,
          34,
          35,
          36,
          36,
          38,
          38,
          42,
          42,
          43,
          43,
          48,
          49,
          49,
          49,
          49,
          49,
          49,
          49,
          49,
          49,
          49,
          50,
          50,
          50,
          50,
          50,
          50,
          50,
          50,
          50,
          50,
          50,
          50,
          50,
          50,
          50,
          50,
          50,
          51,
          51,
          51,
          55,
          55,
          57,
          57,
          57,
          57,
          57,
          57,
          57,
          57,
          58,
          58,
          58,
          58,
          58,
          58,
          59,
          59,
          59,
          59,
          59,
          59,
          59,
          59,
          59,
          59,
          59,
          59,
          59,
          59
         ],
         "xaxis": "x",
         "y": [
          0.01282051282051282,
          0.02564102564102564,
          0.038461538461538464,
          0.05128205128205128,
          0.0641025641025641,
          0.07692307692307693,
          0.08974358974358974,
          0.10256410256410256,
          0.11538461538461539,
          0.1282051282051282,
          0.14102564102564102,
          0.15384615384615385,
          0.16666666666666666,
          0.1794871794871795,
          0.19230769230769232,
          0.20512820512820512,
          0.21794871794871795,
          0.23076923076923078,
          0.24358974358974358,
          0.2564102564102564,
          0.2692307692307692,
          0.28205128205128205,
          0.2948717948717949,
          0.3076923076923077,
          0.32051282051282054,
          0.3333333333333333,
          0.34615384615384615,
          0.358974358974359,
          0.3717948717948718,
          0.38461538461538464,
          0.3974358974358974,
          0.41025641025641024,
          0.4230769230769231,
          0.4358974358974359,
          0.44871794871794873,
          0.46153846153846156,
          0.47435897435897434,
          0.48717948717948717,
          0.5,
          0.5128205128205128,
          0.5256410256410257,
          0.5384615384615384,
          0.5512820512820513,
          0.5641025641025641,
          0.5769230769230769,
          0.5897435897435898,
          0.6025641025641025,
          0.6153846153846154,
          0.6282051282051282,
          0.6410256410256411,
          0.6538461538461539,
          0.6666666666666666,
          0.6794871794871795,
          0.6923076923076923,
          0.7051282051282052,
          0.717948717948718,
          0.7307692307692307,
          0.7435897435897436,
          0.7564102564102564,
          0.7692307692307693,
          0.782051282051282,
          0.7948717948717948,
          0.8076923076923077,
          0.8205128205128205,
          0.8333333333333334,
          0.8461538461538461,
          0.8589743589743589,
          0.8717948717948718,
          0.8846153846153846,
          0.8974358974358975,
          0.9102564102564102,
          0.9230769230769231,
          0.9358974358974359,
          0.9487179487179487,
          0.9615384615384616,
          0.9743589743589743,
          0.9871794871794872,
          1
         ],
         "yaxis": "y"
        }
       ],
       "layout": {
        "legend": {
         "title": {
          "text": "Sleep Disorder"
         },
         "tracegroupgap": 0
        },
        "margin": {
         "t": 60
        },
        "paper_bgcolor": "#EBDEF0",
        "plot_bgcolor": "#EBDEF0",
        "template": {
         "data": {
          "bar": [
           {
            "error_x": {
             "color": "#2a3f5f"
            },
            "error_y": {
             "color": "#2a3f5f"
            },
            "marker": {
             "line": {
              "color": "#E5ECF6",
              "width": 0.5
             },
             "pattern": {
              "fillmode": "overlay",
              "size": 10,
              "solidity": 0.2
             }
            },
            "type": "bar"
           }
          ],
          "barpolar": [
           {
            "marker": {
             "line": {
              "color": "#E5ECF6",
              "width": 0.5
             },
             "pattern": {
              "fillmode": "overlay",
              "size": 10,
              "solidity": 0.2
             }
            },
            "type": "barpolar"
           }
          ],
          "carpet": [
           {
            "aaxis": {
             "endlinecolor": "#2a3f5f",
             "gridcolor": "white",
             "linecolor": "white",
             "minorgridcolor": "white",
             "startlinecolor": "#2a3f5f"
            },
            "baxis": {
             "endlinecolor": "#2a3f5f",
             "gridcolor": "white",
             "linecolor": "white",
             "minorgridcolor": "white",
             "startlinecolor": "#2a3f5f"
            },
            "type": "carpet"
           }
          ],
          "choropleth": [
           {
            "colorbar": {
             "outlinewidth": 0,
             "ticks": ""
            },
            "type": "choropleth"
           }
          ],
          "contour": [
           {
            "colorbar": {
             "outlinewidth": 0,
             "ticks": ""
            },
            "colorscale": [
             [
              0,
              "#0d0887"
             ],
             [
              0.1111111111111111,
              "#46039f"
             ],
             [
              0.2222222222222222,
              "#7201a8"
             ],
             [
              0.3333333333333333,
              "#9c179e"
             ],
             [
              0.4444444444444444,
              "#bd3786"
             ],
             [
              0.5555555555555556,
              "#d8576b"
             ],
             [
              0.6666666666666666,
              "#ed7953"
             ],
             [
              0.7777777777777778,
              "#fb9f3a"
             ],
             [
              0.8888888888888888,
              "#fdca26"
             ],
             [
              1,
              "#f0f921"
             ]
            ],
            "type": "contour"
           }
          ],
          "contourcarpet": [
           {
            "colorbar": {
             "outlinewidth": 0,
             "ticks": ""
            },
            "type": "contourcarpet"
           }
          ],
          "heatmap": [
           {
            "colorbar": {
             "outlinewidth": 0,
             "ticks": ""
            },
            "colorscale": [
             [
              0,
              "#0d0887"
             ],
             [
              0.1111111111111111,
              "#46039f"
             ],
             [
              0.2222222222222222,
              "#7201a8"
             ],
             [
              0.3333333333333333,
              "#9c179e"
             ],
             [
              0.4444444444444444,
              "#bd3786"
             ],
             [
              0.5555555555555556,
              "#d8576b"
             ],
             [
              0.6666666666666666,
              "#ed7953"
             ],
             [
              0.7777777777777778,
              "#fb9f3a"
             ],
             [
              0.8888888888888888,
              "#fdca26"
             ],
             [
              1,
              "#f0f921"
             ]
            ],
            "type": "heatmap"
           }
          ],
          "heatmapgl": [
           {
            "colorbar": {
             "outlinewidth": 0,
             "ticks": ""
            },
            "colorscale": [
             [
              0,
              "#0d0887"
             ],
             [
              0.1111111111111111,
              "#46039f"
             ],
             [
              0.2222222222222222,
              "#7201a8"
             ],
             [
              0.3333333333333333,
              "#9c179e"
             ],
             [
              0.4444444444444444,
              "#bd3786"
             ],
             [
              0.5555555555555556,
              "#d8576b"
             ],
             [
              0.6666666666666666,
              "#ed7953"
             ],
             [
              0.7777777777777778,
              "#fb9f3a"
             ],
             [
              0.8888888888888888,
              "#fdca26"
             ],
             [
              1,
              "#f0f921"
             ]
            ],
            "type": "heatmapgl"
           }
          ],
          "histogram": [
           {
            "marker": {
             "pattern": {
              "fillmode": "overlay",
              "size": 10,
              "solidity": 0.2
             }
            },
            "type": "histogram"
           }
          ],
          "histogram2d": [
           {
            "colorbar": {
             "outlinewidth": 0,
             "ticks": ""
            },
            "colorscale": [
             [
              0,
              "#0d0887"
             ],
             [
              0.1111111111111111,
              "#46039f"
             ],
             [
              0.2222222222222222,
              "#7201a8"
             ],
             [
              0.3333333333333333,
              "#9c179e"
             ],
             [
              0.4444444444444444,
              "#bd3786"
             ],
             [
              0.5555555555555556,
              "#d8576b"
             ],
             [
              0.6666666666666666,
              "#ed7953"
             ],
             [
              0.7777777777777778,
              "#fb9f3a"
             ],
             [
              0.8888888888888888,
              "#fdca26"
             ],
             [
              1,
              "#f0f921"
             ]
            ],
            "type": "histogram2d"
           }
          ],
          "histogram2dcontour": [
           {
            "colorbar": {
             "outlinewidth": 0,
             "ticks": ""
            },
            "colorscale": [
             [
              0,
              "#0d0887"
             ],
             [
              0.1111111111111111,
              "#46039f"
             ],
             [
              0.2222222222222222,
              "#7201a8"
             ],
             [
              0.3333333333333333,
              "#9c179e"
             ],
             [
              0.4444444444444444,
              "#bd3786"
             ],
             [
              0.5555555555555556,
              "#d8576b"
             ],
             [
              0.6666666666666666,
              "#ed7953"
             ],
             [
              0.7777777777777778,
              "#fb9f3a"
             ],
             [
              0.8888888888888888,
              "#fdca26"
             ],
             [
              1,
              "#f0f921"
             ]
            ],
            "type": "histogram2dcontour"
           }
          ],
          "mesh3d": [
           {
            "colorbar": {
             "outlinewidth": 0,
             "ticks": ""
            },
            "type": "mesh3d"
           }
          ],
          "parcoords": [
           {
            "line": {
             "colorbar": {
              "outlinewidth": 0,
              "ticks": ""
             }
            },
            "type": "parcoords"
           }
          ],
          "pie": [
           {
            "automargin": true,
            "type": "pie"
           }
          ],
          "scatter": [
           {
            "fillpattern": {
             "fillmode": "overlay",
             "size": 10,
             "solidity": 0.2
            },
            "type": "scatter"
           }
          ],
          "scatter3d": [
           {
            "line": {
             "colorbar": {
              "outlinewidth": 0,
              "ticks": ""
             }
            },
            "marker": {
             "colorbar": {
              "outlinewidth": 0,
              "ticks": ""
             }
            },
            "type": "scatter3d"
           }
          ],
          "scattercarpet": [
           {
            "marker": {
             "colorbar": {
              "outlinewidth": 0,
              "ticks": ""
             }
            },
            "type": "scattercarpet"
           }
          ],
          "scattergeo": [
           {
            "marker": {
             "colorbar": {
              "outlinewidth": 0,
              "ticks": ""
             }
            },
            "type": "scattergeo"
           }
          ],
          "scattergl": [
           {
            "marker": {
             "colorbar": {
              "outlinewidth": 0,
              "ticks": ""
             }
            },
            "type": "scattergl"
           }
          ],
          "scattermapbox": [
           {
            "marker": {
             "colorbar": {
              "outlinewidth": 0,
              "ticks": ""
             }
            },
            "type": "scattermapbox"
           }
          ],
          "scatterpolar": [
           {
            "marker": {
             "colorbar": {
              "outlinewidth": 0,
              "ticks": ""
             }
            },
            "type": "scatterpolar"
           }
          ],
          "scatterpolargl": [
           {
            "marker": {
             "colorbar": {
              "outlinewidth": 0,
              "ticks": ""
             }
            },
            "type": "scatterpolargl"
           }
          ],
          "scatterternary": [
           {
            "marker": {
             "colorbar": {
              "outlinewidth": 0,
              "ticks": ""
             }
            },
            "type": "scatterternary"
           }
          ],
          "surface": [
           {
            "colorbar": {
             "outlinewidth": 0,
             "ticks": ""
            },
            "colorscale": [
             [
              0,
              "#0d0887"
             ],
             [
              0.1111111111111111,
              "#46039f"
             ],
             [
              0.2222222222222222,
              "#7201a8"
             ],
             [
              0.3333333333333333,
              "#9c179e"
             ],
             [
              0.4444444444444444,
              "#bd3786"
             ],
             [
              0.5555555555555556,
              "#d8576b"
             ],
             [
              0.6666666666666666,
              "#ed7953"
             ],
             [
              0.7777777777777778,
              "#fb9f3a"
             ],
             [
              0.8888888888888888,
              "#fdca26"
             ],
             [
              1,
              "#f0f921"
             ]
            ],
            "type": "surface"
           }
          ],
          "table": [
           {
            "cells": {
             "fill": {
              "color": "#EBF0F8"
             },
             "line": {
              "color": "white"
             }
            },
            "header": {
             "fill": {
              "color": "#C8D4E3"
             },
             "line": {
              "color": "white"
             }
            },
            "type": "table"
           }
          ]
         },
         "layout": {
          "annotationdefaults": {
           "arrowcolor": "#2a3f5f",
           "arrowhead": 0,
           "arrowwidth": 1
          },
          "autotypenumbers": "strict",
          "coloraxis": {
           "colorbar": {
            "outlinewidth": 0,
            "ticks": ""
           }
          },
          "colorscale": {
           "diverging": [
            [
             0,
             "#8e0152"
            ],
            [
             0.1,
             "#c51b7d"
            ],
            [
             0.2,
             "#de77ae"
            ],
            [
             0.3,
             "#f1b6da"
            ],
            [
             0.4,
             "#fde0ef"
            ],
            [
             0.5,
             "#f7f7f7"
            ],
            [
             0.6,
             "#e6f5d0"
            ],
            [
             0.7,
             "#b8e186"
            ],
            [
             0.8,
             "#7fbc41"
            ],
            [
             0.9,
             "#4d9221"
            ],
            [
             1,
             "#276419"
            ]
           ],
           "sequential": [
            [
             0,
             "#0d0887"
            ],
            [
             0.1111111111111111,
             "#46039f"
            ],
            [
             0.2222222222222222,
             "#7201a8"
            ],
            [
             0.3333333333333333,
             "#9c179e"
            ],
            [
             0.4444444444444444,
             "#bd3786"
            ],
            [
             0.5555555555555556,
             "#d8576b"
            ],
            [
             0.6666666666666666,
             "#ed7953"
            ],
            [
             0.7777777777777778,
             "#fb9f3a"
            ],
            [
             0.8888888888888888,
             "#fdca26"
            ],
            [
             1,
             "#f0f921"
            ]
           ],
           "sequentialminus": [
            [
             0,
             "#0d0887"
            ],
            [
             0.1111111111111111,
             "#46039f"
            ],
            [
             0.2222222222222222,
             "#7201a8"
            ],
            [
             0.3333333333333333,
             "#9c179e"
            ],
            [
             0.4444444444444444,
             "#bd3786"
            ],
            [
             0.5555555555555556,
             "#d8576b"
            ],
            [
             0.6666666666666666,
             "#ed7953"
            ],
            [
             0.7777777777777778,
             "#fb9f3a"
            ],
            [
             0.8888888888888888,
             "#fdca26"
            ],
            [
             1,
             "#f0f921"
            ]
           ]
          },
          "colorway": [
           "#636efa",
           "#EF553B",
           "#00cc96",
           "#ab63fa",
           "#FFA15A",
           "#19d3f3",
           "#FF6692",
           "#B6E880",
           "#FF97FF",
           "#FECB52"
          ],
          "font": {
           "color": "#2a3f5f"
          },
          "geo": {
           "bgcolor": "white",
           "lakecolor": "white",
           "landcolor": "#E5ECF6",
           "showlakes": true,
           "showland": true,
           "subunitcolor": "white"
          },
          "hoverlabel": {
           "align": "left"
          },
          "hovermode": "closest",
          "mapbox": {
           "style": "light"
          },
          "paper_bgcolor": "white",
          "plot_bgcolor": "#E5ECF6",
          "polar": {
           "angularaxis": {
            "gridcolor": "white",
            "linecolor": "white",
            "ticks": ""
           },
           "bgcolor": "#E5ECF6",
           "radialaxis": {
            "gridcolor": "white",
            "linecolor": "white",
            "ticks": ""
           }
          },
          "scene": {
           "xaxis": {
            "backgroundcolor": "#E5ECF6",
            "gridcolor": "white",
            "gridwidth": 2,
            "linecolor": "white",
            "showbackground": true,
            "ticks": "",
            "zerolinecolor": "white"
           },
           "yaxis": {
            "backgroundcolor": "#E5ECF6",
            "gridcolor": "white",
            "gridwidth": 2,
            "linecolor": "white",
            "showbackground": true,
            "ticks": "",
            "zerolinecolor": "white"
           },
           "zaxis": {
            "backgroundcolor": "#E5ECF6",
            "gridcolor": "white",
            "gridwidth": 2,
            "linecolor": "white",
            "showbackground": true,
            "ticks": "",
            "zerolinecolor": "white"
           }
          },
          "shapedefaults": {
           "line": {
            "color": "#2a3f5f"
           }
          },
          "ternary": {
           "aaxis": {
            "gridcolor": "white",
            "linecolor": "white",
            "ticks": ""
           },
           "baxis": {
            "gridcolor": "white",
            "linecolor": "white",
            "ticks": ""
           },
           "bgcolor": "#E5ECF6",
           "caxis": {
            "gridcolor": "white",
            "linecolor": "white",
            "ticks": ""
           }
          },
          "title": {
           "x": 0.05
          },
          "xaxis": {
           "automargin": true,
           "gridcolor": "white",
           "linecolor": "white",
           "ticks": "",
           "title": {
            "standoff": 15
           },
           "zerolinecolor": "white",
           "zerolinewidth": 2
          },
          "yaxis": {
           "automargin": true,
           "gridcolor": "white",
           "linecolor": "white",
           "ticks": "",
           "title": {
            "standoff": 15
           },
           "zerolinecolor": "white",
           "zerolinewidth": 2
          }
         }
        },
        "title": {
         "font": {
          "size": 25
         },
         "text": "<b>The effect of ages on sleep </b>.."
        },
        "xaxis": {
         "anchor": "y",
         "domain": [
          0,
          1
         ],
         "showgrid": false,
         "title": {
          "text": "Age"
         }
        },
        "yaxis": {
         "anchor": "x",
         "domain": [
          0,
          1
         ],
         "rangemode": "tozero",
         "showgrid": false,
         "title": {
          "text": "probability"
         }
        }
       }
      }
     },
     "metadata": {},
     "output_type": "display_data"
    }
   ],
   "source": [
    "import pandas as pd\n",
    "import plotly.express as px\n",
    "\n",
    "# Veriyi okuma\n",
    "sleep_data = pd.read_csv('Sleep_health_and_lifestyle_dataset.csv')\n",
    "\n",
    "# 'None' değerlerini içeren bir kopya oluşturma\n",
    "sleep_data_with_none = sleep_data.copy()\n",
    "sleep_data_with_none['Sleep Disorder'].fillna('None', inplace=True)\n",
    "\n",
    "# ECDF oluşturma\n",
    "fig = px.ecdf(sleep_data_with_none, x='Age', color='Sleep Disorder',\n",
    "              color_discrete_sequence=['white', '#4A235A', '#C39BD3'],\n",
    "              category_orders={'Sleep Disorder': ['None', 'Insomnia', 'Sleep Apnea']})\n",
    "\n",
    "# Layout ayarları\n",
    "fig.update_layout(title='<b>The effect of ages on sleep </b>..',\n",
    "                  title_font={'size': 25},\n",
    "                  paper_bgcolor='#EBDEF0',\n",
    "                  plot_bgcolor='#EBDEF0')\n",
    "\n",
    "# Eksen ayarları\n",
    "fig.update_xaxes(showgrid=False)\n",
    "fig.update_yaxes(showgrid=False)\n",
    "\n",
    "# Çıktıyı gösterme\n",
    "fig.show()\n"
   ]
  },
  {
   "cell_type": "code",
   "execution_count": 82,
   "metadata": {},
   "outputs": [
    {
     "name": "stdout",
     "output_type": "stream",
     "text": [
      "The types of jobs that exist are : \u001b[5m\u001b[35m['Software Engineer' 'Doctor' 'Sales Representative' 'Teacher' 'Nurse'\n",
      " 'Engineer' 'Accountant' 'Scientist' 'Lawyer' 'Salesperson' 'Manager']\u001b[0m\n"
     ]
    }
   ],
   "source": [
    "jobs=colored(sleep_data['Occupation'].unique(), \"magenta\",None, attrs=[\"blink\"])\n",
    "print('The types of jobs that exist are :',jobs)"
   ]
  },
  {
   "cell_type": "code",
   "execution_count": 83,
   "metadata": {},
   "outputs": [
    {
     "data": {
      "text/plain": [
       "Sleep Disorder  Occupation          \n",
       "Insomnia        Salesperson             29\n",
       "                Teacher                 27\n",
       "                Accountant               7\n",
       "                Engineer                 5\n",
       "                Doctor                   3\n",
       "                Nurse                    3\n",
       "                Lawyer                   2\n",
       "                Software Engineer        1\n",
       "Sleep Apnea     Nurse                   61\n",
       "                Doctor                   4\n",
       "                Teacher                  4\n",
       "                Lawyer                   3\n",
       "                Sales Representative     2\n",
       "                Scientist                2\n",
       "                Engineer                 1\n",
       "                Salesperson              1\n",
       "Name: count, dtype: int64"
      ]
     },
     "execution_count": 83,
     "metadata": {},
     "output_type": "execute_result"
    }
   ],
   "source": [
    "sleep_data.groupby('Sleep Disorder')['Occupation'].value_counts()"
   ]
  },
  {
   "cell_type": "code",
   "execution_count": 91,
   "metadata": {},
   "outputs": [
    {
     "data": {
      "application/vnd.plotly.v1+json": {
       "config": {
        "plotlyServerURL": "https://plot.ly"
       },
       "data": [
        {
         "alignmentgroup": "True",
         "bingroup": "x",
         "histfunc": "sum",
         "hovertemplate": "Sleep Disorder=%{x}<br>sum of Sleep Duration=%{y}<extra></extra>",
         "legendgroup": "Unknown",
         "marker": {
          "color": "white",
          "pattern": {
           "shape": ""
          }
         },
         "name": "Unknown",
         "offsetgroup": "Unknown",
         "orientation": "v",
         "showlegend": true,
         "texttemplate": "%{value}",
         "type": "histogram",
         "x": [
          "Unknown",
          "Unknown",
          "Unknown",
          "Unknown",
          "Unknown",
          "Unknown",
          "Unknown",
          "Unknown",
          "Unknown",
          "Unknown",
          "Unknown",
          "Unknown",
          "Unknown",
          "Unknown",
          "Unknown",
          "Unknown",
          "Unknown",
          "Unknown",
          "Unknown",
          "Unknown",
          "Unknown",
          "Unknown",
          "Unknown",
          "Unknown",
          "Unknown",
          "Unknown",
          "Unknown",
          "Unknown",
          "Unknown",
          "Unknown",
          "Unknown",
          "Unknown",
          "Unknown",
          "Unknown",
          "Unknown",
          "Unknown",
          "Unknown",
          "Unknown",
          "Unknown",
          "Unknown",
          "Unknown",
          "Unknown",
          "Unknown",
          "Unknown",
          "Unknown",
          "Unknown",
          "Unknown",
          "Unknown",
          "Unknown",
          "Unknown",
          "Unknown",
          "Unknown",
          "Unknown",
          "Unknown",
          "Unknown",
          "Unknown",
          "Unknown",
          "Unknown",
          "Unknown",
          "Unknown",
          "Unknown",
          "Unknown",
          "Unknown",
          "Unknown",
          "Unknown",
          "Unknown",
          "Unknown",
          "Unknown",
          "Unknown",
          "Unknown",
          "Unknown",
          "Unknown",
          "Unknown",
          "Unknown",
          "Unknown",
          "Unknown",
          "Unknown",
          "Unknown",
          "Unknown",
          "Unknown",
          "Unknown",
          "Unknown",
          "Unknown",
          "Unknown",
          "Unknown",
          "Unknown",
          "Unknown",
          "Unknown",
          "Unknown",
          "Unknown",
          "Unknown",
          "Unknown",
          "Unknown",
          "Unknown",
          "Unknown",
          "Unknown",
          "Unknown",
          "Unknown",
          "Unknown",
          "Unknown",
          "Unknown",
          "Unknown",
          "Unknown",
          "Unknown",
          "Unknown",
          "Unknown",
          "Unknown",
          "Unknown",
          "Unknown",
          "Unknown",
          "Unknown",
          "Unknown",
          "Unknown",
          "Unknown",
          "Unknown",
          "Unknown",
          "Unknown",
          "Unknown",
          "Unknown",
          "Unknown",
          "Unknown",
          "Unknown",
          "Unknown",
          "Unknown",
          "Unknown",
          "Unknown",
          "Unknown",
          "Unknown",
          "Unknown",
          "Unknown",
          "Unknown",
          "Unknown",
          "Unknown",
          "Unknown",
          "Unknown",
          "Unknown",
          "Unknown",
          "Unknown",
          "Unknown",
          "Unknown",
          "Unknown",
          "Unknown",
          "Unknown",
          "Unknown",
          "Unknown",
          "Unknown",
          "Unknown",
          "Unknown",
          "Unknown",
          "Unknown",
          "Unknown",
          "Unknown",
          "Unknown",
          "Unknown",
          "Unknown",
          "Unknown",
          "Unknown",
          "Unknown",
          "Unknown",
          "Unknown",
          "Unknown",
          "Unknown",
          "Unknown",
          "Unknown",
          "Unknown",
          "Unknown",
          "Unknown",
          "Unknown",
          "Unknown",
          "Unknown",
          "Unknown",
          "Unknown",
          "Unknown",
          "Unknown",
          "Unknown",
          "Unknown",
          "Unknown",
          "Unknown",
          "Unknown",
          "Unknown",
          "Unknown",
          "Unknown",
          "Unknown",
          "Unknown",
          "Unknown",
          "Unknown",
          "Unknown",
          "Unknown",
          "Unknown",
          "Unknown",
          "Unknown",
          "Unknown",
          "Unknown",
          "Unknown",
          "Unknown",
          "Unknown",
          "Unknown",
          "Unknown",
          "Unknown",
          "Unknown",
          "Unknown",
          "Unknown",
          "Unknown",
          "Unknown",
          "Unknown",
          "Unknown",
          "Unknown",
          "Unknown",
          "Unknown",
          "Unknown",
          "Unknown",
          "Unknown",
          "Unknown",
          "Unknown",
          "Unknown",
          "Unknown",
          "Unknown",
          "Unknown",
          "Unknown"
         ],
         "xaxis": "x",
         "y": [
          6.1,
          6.2,
          6.2,
          7.8,
          7.8,
          7.8,
          6.1,
          7.8,
          6.1,
          6,
          6,
          6,
          7.6,
          7.7,
          7.7,
          7.7,
          7.7,
          7.8,
          7.9,
          7.8,
          7.9,
          7.9,
          7.9,
          7.9,
          6.1,
          7.7,
          6.1,
          6.1,
          7.6,
          7.6,
          7.6,
          7.7,
          7.7,
          7.7,
          7.8,
          7.7,
          7.8,
          7.7,
          7.8,
          7.7,
          7.5,
          7.5,
          6,
          7.6,
          6,
          6,
          7.7,
          6,
          6,
          7.7,
          6,
          6,
          6.2,
          6.2,
          6.2,
          6.2,
          7.2,
          6.2,
          6.2,
          6.1,
          6.1,
          6.1,
          6.1,
          6,
          6,
          6,
          6,
          6,
          6,
          6.7,
          6.7,
          7.5,
          7.2,
          7.2,
          7.2,
          7.3,
          7.3,
          7.3,
          7.3,
          7.5,
          7.1,
          7.2,
          7.1,
          7.1,
          7.1,
          7.2,
          7.2,
          7.2,
          6.1,
          7.8,
          7.8,
          7.4,
          7.2,
          7.4,
          7.2,
          7.4,
          7.2,
          7.2,
          7.2,
          7.2,
          7.2,
          7.2,
          7.2,
          7.2,
          7.2,
          7.2,
          7.2,
          7.5,
          7.3,
          7.1,
          7.3,
          7.3,
          7.1,
          7.3,
          7.3,
          7.1,
          7.3,
          7.3,
          7.1,
          7.1,
          7.1,
          7.1,
          7.1,
          7.1,
          7.1,
          7.1,
          6.9,
          8,
          8,
          7.2,
          7.2,
          7.2,
          7.2,
          7.2,
          7.2,
          7.2,
          7.2,
          7.2,
          7.2,
          7.2,
          7.2,
          7.9,
          7.9,
          7.3,
          7.1,
          7.1,
          7.7,
          7.7,
          7.7,
          7.7,
          7.7,
          7.6,
          7.6,
          7.6,
          7.8,
          7.8,
          7.8,
          7.8,
          7.8,
          7.8,
          6.9,
          7.6,
          7.7,
          7.7,
          7.7,
          7.7,
          7.8,
          7.7,
          7.8,
          7.8,
          7.8,
          7.8,
          7.8,
          7.8,
          7.8,
          6.4,
          6.5,
          6.6,
          6.6,
          6.9,
          6.2,
          8.3,
          6,
          8.5,
          8.5,
          8.5,
          8.5,
          7.1,
          8.4,
          8.4,
          8.4,
          8.5,
          8.5,
          8.4,
          8.4,
          8.5,
          8.4,
          8.4,
          8.5,
          8.3,
          8.5,
          8.3,
          8.5,
          8.3,
          8.5,
          8.5,
          8.4,
          8.4,
          8.4,
          8.4,
          8.4,
          8.4,
          8.4,
          8.5,
          8.2,
          8.2,
          8.1,
          8,
          8.1
         ],
         "yaxis": "y"
        },
        {
         "alignmentgroup": "True",
         "bingroup": "x",
         "histfunc": "sum",
         "hovertemplate": "Sleep Disorder=%{x}<br>sum of Sleep Duration=%{y}<extra></extra>",
         "legendgroup": "Sleep Apnea",
         "marker": {
          "color": "#4A235A",
          "pattern": {
           "shape": ""
          }
         },
         "name": "Sleep Apnea",
         "offsetgroup": "Sleep Apnea",
         "orientation": "v",
         "showlegend": true,
         "texttemplate": "%{value}",
         "type": "histogram",
         "x": [
          "Sleep Apnea",
          "Sleep Apnea",
          "Sleep Apnea",
          "Sleep Apnea",
          "Sleep Apnea",
          "Sleep Apnea",
          "Sleep Apnea",
          "Sleep Apnea",
          "Sleep Apnea",
          "Sleep Apnea",
          "Sleep Apnea",
          "Sleep Apnea",
          "Sleep Apnea",
          "Sleep Apnea",
          "Sleep Apnea",
          "Sleep Apnea",
          "Sleep Apnea",
          "Sleep Apnea",
          "Sleep Apnea",
          "Sleep Apnea",
          "Sleep Apnea",
          "Sleep Apnea",
          "Sleep Apnea",
          "Sleep Apnea",
          "Sleep Apnea",
          "Sleep Apnea",
          "Sleep Apnea",
          "Sleep Apnea",
          "Sleep Apnea",
          "Sleep Apnea",
          "Sleep Apnea",
          "Sleep Apnea",
          "Sleep Apnea",
          "Sleep Apnea",
          "Sleep Apnea",
          "Sleep Apnea",
          "Sleep Apnea",
          "Sleep Apnea",
          "Sleep Apnea",
          "Sleep Apnea",
          "Sleep Apnea",
          "Sleep Apnea",
          "Sleep Apnea",
          "Sleep Apnea",
          "Sleep Apnea",
          "Sleep Apnea",
          "Sleep Apnea",
          "Sleep Apnea",
          "Sleep Apnea",
          "Sleep Apnea",
          "Sleep Apnea",
          "Sleep Apnea",
          "Sleep Apnea",
          "Sleep Apnea",
          "Sleep Apnea",
          "Sleep Apnea",
          "Sleep Apnea",
          "Sleep Apnea",
          "Sleep Apnea",
          "Sleep Apnea",
          "Sleep Apnea",
          "Sleep Apnea",
          "Sleep Apnea",
          "Sleep Apnea",
          "Sleep Apnea",
          "Sleep Apnea",
          "Sleep Apnea",
          "Sleep Apnea",
          "Sleep Apnea",
          "Sleep Apnea",
          "Sleep Apnea",
          "Sleep Apnea",
          "Sleep Apnea",
          "Sleep Apnea",
          "Sleep Apnea",
          "Sleep Apnea",
          "Sleep Apnea",
          "Sleep Apnea"
         ],
         "xaxis": "x",
         "y": [
          5.9,
          5.9,
          6.5,
          6,
          6.4,
          7.7,
          5.8,
          5.8,
          7.4,
          6.6,
          7.2,
          7.1,
          7.4,
          6.8,
          6.8,
          7.8,
          6.5,
          5.9,
          6,
          6.1,
          6.1,
          6.1,
          6.1,
          6.2,
          6.2,
          6.2,
          8.1,
          8.1,
          6.1,
          6,
          6,
          6,
          6,
          6,
          6,
          6,
          6.1,
          6,
          6.1,
          6.1,
          6,
          6.1,
          6,
          6.1,
          6.1,
          6,
          6.1,
          6.1,
          8.1,
          8.1,
          8.2,
          8.2,
          8.2,
          8.2,
          8.2,
          8.1,
          8.1,
          8.1,
          8,
          8,
          8,
          8,
          8,
          8,
          8.2,
          8.2,
          8.2,
          8.2,
          8,
          8,
          8.1,
          8,
          8.1,
          8.1,
          8,
          8.1,
          8.1,
          8.1
         ],
         "yaxis": "y"
        },
        {
         "alignmentgroup": "True",
         "bingroup": "x",
         "histfunc": "sum",
         "hovertemplate": "Sleep Disorder=%{x}<br>sum of Sleep Duration=%{y}<extra></extra>",
         "legendgroup": "Insomnia",
         "marker": {
          "color": "#C39BD3",
          "pattern": {
           "shape": ""
          }
         },
         "name": "Insomnia",
         "offsetgroup": "Insomnia",
         "orientation": "v",
         "showlegend": true,
         "texttemplate": "%{value}",
         "type": "histogram",
         "x": [
          "Insomnia",
          "Insomnia",
          "Insomnia",
          "Insomnia",
          "Insomnia",
          "Insomnia",
          "Insomnia",
          "Insomnia",
          "Insomnia",
          "Insomnia",
          "Insomnia",
          "Insomnia",
          "Insomnia",
          "Insomnia",
          "Insomnia",
          "Insomnia",
          "Insomnia",
          "Insomnia",
          "Insomnia",
          "Insomnia",
          "Insomnia",
          "Insomnia",
          "Insomnia",
          "Insomnia",
          "Insomnia",
          "Insomnia",
          "Insomnia",
          "Insomnia",
          "Insomnia",
          "Insomnia",
          "Insomnia",
          "Insomnia",
          "Insomnia",
          "Insomnia",
          "Insomnia",
          "Insomnia",
          "Insomnia",
          "Insomnia",
          "Insomnia",
          "Insomnia",
          "Insomnia",
          "Insomnia",
          "Insomnia",
          "Insomnia",
          "Insomnia",
          "Insomnia",
          "Insomnia",
          "Insomnia",
          "Insomnia",
          "Insomnia",
          "Insomnia",
          "Insomnia",
          "Insomnia",
          "Insomnia",
          "Insomnia",
          "Insomnia",
          "Insomnia",
          "Insomnia",
          "Insomnia",
          "Insomnia",
          "Insomnia",
          "Insomnia",
          "Insomnia",
          "Insomnia",
          "Insomnia",
          "Insomnia",
          "Insomnia",
          "Insomnia",
          "Insomnia",
          "Insomnia",
          "Insomnia",
          "Insomnia",
          "Insomnia",
          "Insomnia",
          "Insomnia",
          "Insomnia",
          "Insomnia"
         ],
         "xaxis": "x",
         "y": [
          5.9,
          6.3,
          6.5,
          6.4,
          6,
          7.2,
          6.6,
          7.2,
          6.5,
          7.6,
          6.5,
          6.7,
          6.3,
          6.7,
          6.5,
          6.7,
          6.4,
          6.5,
          6.5,
          6.5,
          6.5,
          6.5,
          6.5,
          6.5,
          6.5,
          6.5,
          7.8,
          7.8,
          6.6,
          6.4,
          6.3,
          6.4,
          6.6,
          6.3,
          6.6,
          6.3,
          6.6,
          6.3,
          6.6,
          6.3,
          6.6,
          6.3,
          6.6,
          6.3,
          6.4,
          6.5,
          6.3,
          6.4,
          6.5,
          6.3,
          6.4,
          6.5,
          6.3,
          6.5,
          6.3,
          6.8,
          6.8,
          6.8,
          6.5,
          6.5,
          6.5,
          6.5,
          6.6,
          6.6,
          6.6,
          6.6,
          6.6,
          7.3,
          7.3,
          6.1,
          6.5,
          6.5,
          6.6,
          6.6,
          6.6,
          6.6,
          8.3
         ],
         "yaxis": "y"
        }
       ],
       "layout": {
        "barmode": "relative",
        "legend": {
         "title": {
          "text": "Sleep Disorder"
         },
         "tracegroupgap": 0
        },
        "margin": {
         "t": 60
        },
        "paper_bgcolor": "#EBDEF0",
        "plot_bgcolor": "#EBDEF0",
        "showlegend": true,
        "template": {
         "data": {
          "bar": [
           {
            "error_x": {
             "color": "#2a3f5f"
            },
            "error_y": {
             "color": "#2a3f5f"
            },
            "marker": {
             "line": {
              "color": "#E5ECF6",
              "width": 0.5
             },
             "pattern": {
              "fillmode": "overlay",
              "size": 10,
              "solidity": 0.2
             }
            },
            "type": "bar"
           }
          ],
          "barpolar": [
           {
            "marker": {
             "line": {
              "color": "#E5ECF6",
              "width": 0.5
             },
             "pattern": {
              "fillmode": "overlay",
              "size": 10,
              "solidity": 0.2
             }
            },
            "type": "barpolar"
           }
          ],
          "carpet": [
           {
            "aaxis": {
             "endlinecolor": "#2a3f5f",
             "gridcolor": "white",
             "linecolor": "white",
             "minorgridcolor": "white",
             "startlinecolor": "#2a3f5f"
            },
            "baxis": {
             "endlinecolor": "#2a3f5f",
             "gridcolor": "white",
             "linecolor": "white",
             "minorgridcolor": "white",
             "startlinecolor": "#2a3f5f"
            },
            "type": "carpet"
           }
          ],
          "choropleth": [
           {
            "colorbar": {
             "outlinewidth": 0,
             "ticks": ""
            },
            "type": "choropleth"
           }
          ],
          "contour": [
           {
            "colorbar": {
             "outlinewidth": 0,
             "ticks": ""
            },
            "colorscale": [
             [
              0,
              "#0d0887"
             ],
             [
              0.1111111111111111,
              "#46039f"
             ],
             [
              0.2222222222222222,
              "#7201a8"
             ],
             [
              0.3333333333333333,
              "#9c179e"
             ],
             [
              0.4444444444444444,
              "#bd3786"
             ],
             [
              0.5555555555555556,
              "#d8576b"
             ],
             [
              0.6666666666666666,
              "#ed7953"
             ],
             [
              0.7777777777777778,
              "#fb9f3a"
             ],
             [
              0.8888888888888888,
              "#fdca26"
             ],
             [
              1,
              "#f0f921"
             ]
            ],
            "type": "contour"
           }
          ],
          "contourcarpet": [
           {
            "colorbar": {
             "outlinewidth": 0,
             "ticks": ""
            },
            "type": "contourcarpet"
           }
          ],
          "heatmap": [
           {
            "colorbar": {
             "outlinewidth": 0,
             "ticks": ""
            },
            "colorscale": [
             [
              0,
              "#0d0887"
             ],
             [
              0.1111111111111111,
              "#46039f"
             ],
             [
              0.2222222222222222,
              "#7201a8"
             ],
             [
              0.3333333333333333,
              "#9c179e"
             ],
             [
              0.4444444444444444,
              "#bd3786"
             ],
             [
              0.5555555555555556,
              "#d8576b"
             ],
             [
              0.6666666666666666,
              "#ed7953"
             ],
             [
              0.7777777777777778,
              "#fb9f3a"
             ],
             [
              0.8888888888888888,
              "#fdca26"
             ],
             [
              1,
              "#f0f921"
             ]
            ],
            "type": "heatmap"
           }
          ],
          "heatmapgl": [
           {
            "colorbar": {
             "outlinewidth": 0,
             "ticks": ""
            },
            "colorscale": [
             [
              0,
              "#0d0887"
             ],
             [
              0.1111111111111111,
              "#46039f"
             ],
             [
              0.2222222222222222,
              "#7201a8"
             ],
             [
              0.3333333333333333,
              "#9c179e"
             ],
             [
              0.4444444444444444,
              "#bd3786"
             ],
             [
              0.5555555555555556,
              "#d8576b"
             ],
             [
              0.6666666666666666,
              "#ed7953"
             ],
             [
              0.7777777777777778,
              "#fb9f3a"
             ],
             [
              0.8888888888888888,
              "#fdca26"
             ],
             [
              1,
              "#f0f921"
             ]
            ],
            "type": "heatmapgl"
           }
          ],
          "histogram": [
           {
            "marker": {
             "pattern": {
              "fillmode": "overlay",
              "size": 10,
              "solidity": 0.2
             }
            },
            "type": "histogram"
           }
          ],
          "histogram2d": [
           {
            "colorbar": {
             "outlinewidth": 0,
             "ticks": ""
            },
            "colorscale": [
             [
              0,
              "#0d0887"
             ],
             [
              0.1111111111111111,
              "#46039f"
             ],
             [
              0.2222222222222222,
              "#7201a8"
             ],
             [
              0.3333333333333333,
              "#9c179e"
             ],
             [
              0.4444444444444444,
              "#bd3786"
             ],
             [
              0.5555555555555556,
              "#d8576b"
             ],
             [
              0.6666666666666666,
              "#ed7953"
             ],
             [
              0.7777777777777778,
              "#fb9f3a"
             ],
             [
              0.8888888888888888,
              "#fdca26"
             ],
             [
              1,
              "#f0f921"
             ]
            ],
            "type": "histogram2d"
           }
          ],
          "histogram2dcontour": [
           {
            "colorbar": {
             "outlinewidth": 0,
             "ticks": ""
            },
            "colorscale": [
             [
              0,
              "#0d0887"
             ],
             [
              0.1111111111111111,
              "#46039f"
             ],
             [
              0.2222222222222222,
              "#7201a8"
             ],
             [
              0.3333333333333333,
              "#9c179e"
             ],
             [
              0.4444444444444444,
              "#bd3786"
             ],
             [
              0.5555555555555556,
              "#d8576b"
             ],
             [
              0.6666666666666666,
              "#ed7953"
             ],
             [
              0.7777777777777778,
              "#fb9f3a"
             ],
             [
              0.8888888888888888,
              "#fdca26"
             ],
             [
              1,
              "#f0f921"
             ]
            ],
            "type": "histogram2dcontour"
           }
          ],
          "mesh3d": [
           {
            "colorbar": {
             "outlinewidth": 0,
             "ticks": ""
            },
            "type": "mesh3d"
           }
          ],
          "parcoords": [
           {
            "line": {
             "colorbar": {
              "outlinewidth": 0,
              "ticks": ""
             }
            },
            "type": "parcoords"
           }
          ],
          "pie": [
           {
            "automargin": true,
            "type": "pie"
           }
          ],
          "scatter": [
           {
            "fillpattern": {
             "fillmode": "overlay",
             "size": 10,
             "solidity": 0.2
            },
            "type": "scatter"
           }
          ],
          "scatter3d": [
           {
            "line": {
             "colorbar": {
              "outlinewidth": 0,
              "ticks": ""
             }
            },
            "marker": {
             "colorbar": {
              "outlinewidth": 0,
              "ticks": ""
             }
            },
            "type": "scatter3d"
           }
          ],
          "scattercarpet": [
           {
            "marker": {
             "colorbar": {
              "outlinewidth": 0,
              "ticks": ""
             }
            },
            "type": "scattercarpet"
           }
          ],
          "scattergeo": [
           {
            "marker": {
             "colorbar": {
              "outlinewidth": 0,
              "ticks": ""
             }
            },
            "type": "scattergeo"
           }
          ],
          "scattergl": [
           {
            "marker": {
             "colorbar": {
              "outlinewidth": 0,
              "ticks": ""
             }
            },
            "type": "scattergl"
           }
          ],
          "scattermapbox": [
           {
            "marker": {
             "colorbar": {
              "outlinewidth": 0,
              "ticks": ""
             }
            },
            "type": "scattermapbox"
           }
          ],
          "scatterpolar": [
           {
            "marker": {
             "colorbar": {
              "outlinewidth": 0,
              "ticks": ""
             }
            },
            "type": "scatterpolar"
           }
          ],
          "scatterpolargl": [
           {
            "marker": {
             "colorbar": {
              "outlinewidth": 0,
              "ticks": ""
             }
            },
            "type": "scatterpolargl"
           }
          ],
          "scatterternary": [
           {
            "marker": {
             "colorbar": {
              "outlinewidth": 0,
              "ticks": ""
             }
            },
            "type": "scatterternary"
           }
          ],
          "surface": [
           {
            "colorbar": {
             "outlinewidth": 0,
             "ticks": ""
            },
            "colorscale": [
             [
              0,
              "#0d0887"
             ],
             [
              0.1111111111111111,
              "#46039f"
             ],
             [
              0.2222222222222222,
              "#7201a8"
             ],
             [
              0.3333333333333333,
              "#9c179e"
             ],
             [
              0.4444444444444444,
              "#bd3786"
             ],
             [
              0.5555555555555556,
              "#d8576b"
             ],
             [
              0.6666666666666666,
              "#ed7953"
             ],
             [
              0.7777777777777778,
              "#fb9f3a"
             ],
             [
              0.8888888888888888,
              "#fdca26"
             ],
             [
              1,
              "#f0f921"
             ]
            ],
            "type": "surface"
           }
          ],
          "table": [
           {
            "cells": {
             "fill": {
              "color": "#EBF0F8"
             },
             "line": {
              "color": "white"
             }
            },
            "header": {
             "fill": {
              "color": "#C8D4E3"
             },
             "line": {
              "color": "white"
             }
            },
            "type": "table"
           }
          ]
         },
         "layout": {
          "annotationdefaults": {
           "arrowcolor": "#2a3f5f",
           "arrowhead": 0,
           "arrowwidth": 1
          },
          "autotypenumbers": "strict",
          "coloraxis": {
           "colorbar": {
            "outlinewidth": 0,
            "ticks": ""
           }
          },
          "colorscale": {
           "diverging": [
            [
             0,
             "#8e0152"
            ],
            [
             0.1,
             "#c51b7d"
            ],
            [
             0.2,
             "#de77ae"
            ],
            [
             0.3,
             "#f1b6da"
            ],
            [
             0.4,
             "#fde0ef"
            ],
            [
             0.5,
             "#f7f7f7"
            ],
            [
             0.6,
             "#e6f5d0"
            ],
            [
             0.7,
             "#b8e186"
            ],
            [
             0.8,
             "#7fbc41"
            ],
            [
             0.9,
             "#4d9221"
            ],
            [
             1,
             "#276419"
            ]
           ],
           "sequential": [
            [
             0,
             "#0d0887"
            ],
            [
             0.1111111111111111,
             "#46039f"
            ],
            [
             0.2222222222222222,
             "#7201a8"
            ],
            [
             0.3333333333333333,
             "#9c179e"
            ],
            [
             0.4444444444444444,
             "#bd3786"
            ],
            [
             0.5555555555555556,
             "#d8576b"
            ],
            [
             0.6666666666666666,
             "#ed7953"
            ],
            [
             0.7777777777777778,
             "#fb9f3a"
            ],
            [
             0.8888888888888888,
             "#fdca26"
            ],
            [
             1,
             "#f0f921"
            ]
           ],
           "sequentialminus": [
            [
             0,
             "#0d0887"
            ],
            [
             0.1111111111111111,
             "#46039f"
            ],
            [
             0.2222222222222222,
             "#7201a8"
            ],
            [
             0.3333333333333333,
             "#9c179e"
            ],
            [
             0.4444444444444444,
             "#bd3786"
            ],
            [
             0.5555555555555556,
             "#d8576b"
            ],
            [
             0.6666666666666666,
             "#ed7953"
            ],
            [
             0.7777777777777778,
             "#fb9f3a"
            ],
            [
             0.8888888888888888,
             "#fdca26"
            ],
            [
             1,
             "#f0f921"
            ]
           ]
          },
          "colorway": [
           "#636efa",
           "#EF553B",
           "#00cc96",
           "#ab63fa",
           "#FFA15A",
           "#19d3f3",
           "#FF6692",
           "#B6E880",
           "#FF97FF",
           "#FECB52"
          ],
          "font": {
           "color": "#2a3f5f"
          },
          "geo": {
           "bgcolor": "white",
           "lakecolor": "white",
           "landcolor": "#E5ECF6",
           "showlakes": true,
           "showland": true,
           "subunitcolor": "white"
          },
          "hoverlabel": {
           "align": "left"
          },
          "hovermode": "closest",
          "mapbox": {
           "style": "light"
          },
          "paper_bgcolor": "white",
          "plot_bgcolor": "#E5ECF6",
          "polar": {
           "angularaxis": {
            "gridcolor": "white",
            "linecolor": "white",
            "ticks": ""
           },
           "bgcolor": "#E5ECF6",
           "radialaxis": {
            "gridcolor": "white",
            "linecolor": "white",
            "ticks": ""
           }
          },
          "scene": {
           "xaxis": {
            "backgroundcolor": "#E5ECF6",
            "gridcolor": "white",
            "gridwidth": 2,
            "linecolor": "white",
            "showbackground": true,
            "ticks": "",
            "zerolinecolor": "white"
           },
           "yaxis": {
            "backgroundcolor": "#E5ECF6",
            "gridcolor": "white",
            "gridwidth": 2,
            "linecolor": "white",
            "showbackground": true,
            "ticks": "",
            "zerolinecolor": "white"
           },
           "zaxis": {
            "backgroundcolor": "#E5ECF6",
            "gridcolor": "white",
            "gridwidth": 2,
            "linecolor": "white",
            "showbackground": true,
            "ticks": "",
            "zerolinecolor": "white"
           }
          },
          "shapedefaults": {
           "line": {
            "color": "#2a3f5f"
           }
          },
          "ternary": {
           "aaxis": {
            "gridcolor": "white",
            "linecolor": "white",
            "ticks": ""
           },
           "baxis": {
            "gridcolor": "white",
            "linecolor": "white",
            "ticks": ""
           },
           "bgcolor": "#E5ECF6",
           "caxis": {
            "gridcolor": "white",
            "linecolor": "white",
            "ticks": ""
           }
          },
          "title": {
           "x": 0.05
          },
          "xaxis": {
           "automargin": true,
           "gridcolor": "white",
           "linecolor": "white",
           "ticks": "",
           "title": {
            "standoff": 15
           },
           "zerolinecolor": "white",
           "zerolinewidth": 2
          },
          "yaxis": {
           "automargin": true,
           "gridcolor": "white",
           "linecolor": "white",
           "ticks": "",
           "title": {
            "standoff": 15
           },
           "zerolinecolor": "white",
           "zerolinewidth": 2
          }
         }
        },
        "title": {
         "font": {
          "family": "Serif",
          "size": 24
         },
         "text": "<b>The effect of Sleep Duration on Sleep Disorder</b>.."
        },
        "xaxis": {
         "anchor": "y",
         "categoryarray": [
          "Unknown",
          "Sleep Apnea",
          "Insomnia"
         ],
         "categoryorder": "array",
         "domain": [
          0,
          1
         ],
         "title": {
          "text": "Sleep Disorder"
         }
        },
        "yaxis": {
         "anchor": "x",
         "domain": [
          0,
          1
         ],
         "showgrid": false,
         "title": {
          "text": "sum of Sleep Duration"
         }
        }
       }
      }
     },
     "metadata": {},
     "output_type": "display_data"
    }
   ],
   "source": [
    "import pandas as pd\n",
    "import plotly.express as px\n",
    "\n",
    "# Veriyi okuma\n",
    "sleep_data = pd.read_csv('Sleep_health_and_lifestyle_dataset.csv')\n",
    "\n",
    "# 'None' değerleri 'Unknown' olarak değiştirme\n",
    "sleep_data['Sleep Disorder'].fillna('Unknown', inplace=True)\n",
    "\n",
    "# Histogram oluşturma\n",
    "fig = px.histogram(sleep_data, x='Sleep Disorder', y='Sleep Duration',\n",
    "                   color='Sleep Disorder', color_discrete_sequence=['white', '#4A235A', '#C39BD3'],\n",
    "                   text_auto=True)\n",
    "\n",
    "# Layout ayarları\n",
    "fig.update_layout(title='<b>The effect of Sleep Duration on Sleep Disorder</b>..',\n",
    "                  titlefont={'size': 24, 'family': 'Serif'},\n",
    "                  showlegend=True,\n",
    "                  paper_bgcolor='#EBDEF0',\n",
    "                  plot_bgcolor='#EBDEF0')\n",
    "\n",
    "# 'None' değerlerini göstermek için etiket ekleme\n",
    "fig.for_each_trace(lambda t: t.update(name=t.name.replace('nan', 'None')))\n",
    "\n",
    "fig.update_yaxes(showgrid=False)\n",
    "\n",
    "# Çıktıyı gösterme\n",
    "fig.show()\n"
   ]
  },
  {
   "cell_type": "code",
   "execution_count": 3,
   "metadata": {},
   "outputs": [
    {
     "ename": "NameError",
     "evalue": "name 'px' is not defined",
     "output_type": "error",
     "traceback": [
      "\u001b[1;31m---------------------------------------------------------------------------\u001b[0m",
      "\u001b[1;31mNameError\u001b[0m                                 Traceback (most recent call last)",
      "Cell \u001b[1;32mIn[3], line 1\u001b[0m\n\u001b[1;32m----> 1\u001b[0m fig\u001b[38;5;241m=\u001b[39m\u001b[43mpx\u001b[49m\u001b[38;5;241m.\u001b[39mhistogram(sleep_data,x\u001b[38;5;241m=\u001b[39m\u001b[38;5;124m'\u001b[39m\u001b[38;5;124mSleep Disorder\u001b[39m\u001b[38;5;124m'\u001b[39m,\n\u001b[0;32m      2\u001b[0m                  color\u001b[38;5;241m=\u001b[39m\u001b[38;5;124m'\u001b[39m\u001b[38;5;124mSleep Disorder\u001b[39m\u001b[38;5;124m'\u001b[39m,\n\u001b[0;32m      3\u001b[0m                  facet_col\u001b[38;5;241m=\u001b[39m\u001b[38;5;124m'\u001b[39m\u001b[38;5;124mStress Level\u001b[39m\u001b[38;5;124m'\u001b[39m,\n\u001b[0;32m      4\u001b[0m                  barmode\u001b[38;5;241m=\u001b[39m\u001b[38;5;124m'\u001b[39m\u001b[38;5;124mgroup\u001b[39m\u001b[38;5;124m'\u001b[39m,\n\u001b[0;32m      5\u001b[0m                  color_discrete_sequence\u001b[38;5;241m=\u001b[39m[\u001b[38;5;124m'\u001b[39m\u001b[38;5;124mwhite\u001b[39m\u001b[38;5;124m'\u001b[39m,\u001b[38;5;124m'\u001b[39m\u001b[38;5;124m#4A235A\u001b[39m\u001b[38;5;124m'\u001b[39m,\u001b[38;5;124m'\u001b[39m\u001b[38;5;124m#C39BD3\u001b[39m\u001b[38;5;124m'\u001b[39m],\n\u001b[0;32m      6\u001b[0m                  opacity\u001b[38;5;241m=\u001b[39m\u001b[38;5;241m.8\u001b[39m)\n\u001b[0;32m      9\u001b[0m fig\u001b[38;5;241m.\u001b[39mupdate_layout(title\u001b[38;5;241m=\u001b[39m\u001b[38;5;124m'\u001b[39m\u001b[38;5;124m<b>The effect of Stress Level on Sleep Disorder</b> ..\u001b[39m\u001b[38;5;124m'\u001b[39m,title_font\u001b[38;5;241m=\u001b[39m{\u001b[38;5;124m'\u001b[39m\u001b[38;5;124msize\u001b[39m\u001b[38;5;124m'\u001b[39m:\u001b[38;5;241m30\u001b[39m},\n\u001b[0;32m     10\u001b[0m                   paper_bgcolor\u001b[38;5;241m=\u001b[39m\u001b[38;5;124m'\u001b[39m\u001b[38;5;124m#EBDEF0\u001b[39m\u001b[38;5;124m'\u001b[39m,\n\u001b[0;32m     11\u001b[0m                   plot_bgcolor\u001b[38;5;241m=\u001b[39m\u001b[38;5;124m'\u001b[39m\u001b[38;5;124m#EBDEF0\u001b[39m\u001b[38;5;124m'\u001b[39m)\n\u001b[0;32m     15\u001b[0m fig\u001b[38;5;241m.\u001b[39mupdate_yaxes(showgrid\u001b[38;5;241m=\u001b[39m\u001b[38;5;28;01mFalse\u001b[39;00m)\n",
      "\u001b[1;31mNameError\u001b[0m: name 'px' is not defined"
     ]
    }
   ],
   "source": [
    "fig=px.histogram(sleep_data,x='Sleep Disorder',\n",
    "                 color='Sleep Disorder',\n",
    "                 facet_col='Stress Level',\n",
    "                 barmode='group',\n",
    "                 color_discrete_sequence=['white','#4A235A','#C39BD3'],\n",
    "                 opacity=.8)\n",
    "\n",
    "\n",
    "fig.update_layout(title='<b>The effect of Stress Level on Sleep Disorder</b> ..',title_font={'size':30},\n",
    "                  paper_bgcolor='#EBDEF0',\n",
    "                  plot_bgcolor='#EBDEF0')\n",
    "\n",
    "\n",
    "\n",
    "fig.update_yaxes(showgrid=False)\n",
    "fig.show()"
   ]
  }
 ],
 "metadata": {
  "kernelspec": {
   "display_name": "Python 3",
   "language": "python",
   "name": "python3"
  },
  "language_info": {
   "codemirror_mode": {
    "name": "ipython",
    "version": 3
   },
   "file_extension": ".py",
   "mimetype": "text/x-python",
   "name": "python",
   "nbconvert_exporter": "python",
   "pygments_lexer": "ipython3",
   "version": "3.12.0"
  }
 },
 "nbformat": 4,
 "nbformat_minor": 2
}
